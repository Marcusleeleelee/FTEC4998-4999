{
  "nbformat": 4,
  "nbformat_minor": 0,
  "metadata": {
    "colab": {
      "provenance": [],
      "authorship_tag": "ABX9TyPrngKGQkiIqWNcHzmpQRqD",
      "include_colab_link": true
    },
    "kernelspec": {
      "name": "python3",
      "display_name": "Python 3"
    },
    "language_info": {
      "name": "python"
    }
  },
  "cells": [
    {
      "cell_type": "markdown",
      "metadata": {
        "id": "view-in-github",
        "colab_type": "text"
      },
      "source": [
        "<a href=\"https://colab.research.google.com/github/Marcusleeleelee/FTEC4998-4999/blob/main/FTEC4998_4999.ipynb\" target=\"_parent\"><img src=\"https://colab.research.google.com/assets/colab-badge.svg\" alt=\"Open In Colab\"/></a>"
      ]
    },
    {
      "cell_type": "code",
      "source": [
        "# Import necessary packages\n",
        "import pandas as pd\n",
        "import numpy as np\n",
        "from sklearn.linear_model import LogisticRegression\n",
        "from sklearn.neighbors import KNeighborsClassifier\n",
        "from sklearn.ensemble import RandomForestClassifier, AdaBoostClassifier, BaggingClassifier\n",
        "from sklearn.svm import SVC\n",
        "from sklearn.decomposition import PCA\n",
        "from sklearn.model_selection import train_test_split, GridSearchCV\n",
        "from sklearn.metrics import accuracy_score, classification_report, confusion_matrix\n",
        "from sklearn.naive_bayes import GaussianNB\n",
        "from sklearn.neural_network import MLPClassifier\n",
        "from sklearn.pipeline import Pipeline\n",
        "from sklearn.preprocessing import StandardScaler\n",
        "import torch\n",
        "import torch.nn as nn\n",
        "import torch.optim as optim\n",
        "import torch.nn.functional as F\n",
        "from google.colab import drive\n",
        "from tqdm import tqdm\n",
        "import inspect\n",
        "# Mount Google Drive\n",
        "drive.mount('/content/drive')"
      ],
      "metadata": {
        "id": "9Irism69Bo6L",
        "colab": {
          "base_uri": "https://localhost:8080/"
        },
        "outputId": "b4f61558-04e8-40b5-83b9-da33d828ddd5"
      },
      "execution_count": 19,
      "outputs": [
        {
          "output_type": "stream",
          "name": "stdout",
          "text": [
            "Drive already mounted at /content/drive; to attempt to forcibly remount, call drive.mount(\"/content/drive\", force_remount=True).\n"
          ]
        }
      ]
    },
    {
      "cell_type": "code",
      "source": [
        "# Step 1: Utils - ok\n",
        "def uni_list(input): return list(set(input))"
      ],
      "metadata": {
        "id": "ndu77M8kBr-h"
      },
      "execution_count": 20,
      "outputs": []
    },
    {
      "cell_type": "code",
      "source": [
        "class Dataset():\n",
        "    def __init__(self, file_path):\n",
        "        self.dataset = pd.read_feather(file_path)\n",
        "        self.X_train, self.y_train = None, None\n",
        "        self.X_test, self.y_test = None, None\n",
        "        self.scalers = None\n",
        "        self.pca = None\n",
        "        self.label = 'loan_condition_cat'\n",
        "        self.original_columns = None\n",
        "\n",
        "    def show(self, rows=10):\n",
        "        return self.dataset.head(rows)\n",
        "\n",
        "    def basic_processing(self):\n",
        "        temp_func_1 = lambda x: '<=2009' if str(x) in ['2007', '2008', '2009'] else (\"[2010, 2012]\" if str(x) in ['2010', '2011', '2012'] else '>=2013')\n",
        "        columns_to_delete = [\n",
        "            'id', 'issue_d', 'home_ownership_cat', 'income_category', 'income_cat', 'term_cat', 'application_type_cat',\n",
        "            'purpose_cat', 'interest_payment_cat', 'loan_condition'\n",
        "        ]\n",
        "        self.dataset.drop(columns=columns_to_delete, inplace=True)\n",
        "        self.dataset['grade'] = self.dataset['grade'].apply(temp_func_1)\n",
        "        self.dataset['final_d'] = self.dataset['final_d'].apply(lambda x: str(x)[-4:]).apply(temp_func_1)\n",
        "        self.dataset = pd.get_dummies(self.dataset, columns=['year', 'final_d', 'home_ownership', 'term', 'application_type',\n",
        "                                                             'purpose', 'interest_payments', 'grade', 'region'], dtype=int)\n",
        "\n",
        "    def train_test_split(self, test_size=0.2, random_state=42):\n",
        "        X = self.dataset.drop(columns=[self.label])\n",
        "        y = self.dataset[self.label]\n",
        "        self.X_train, self.X_test, self.y_train, self.y_test = train_test_split(X, y, test_size=test_size, random_state=random_state)\n",
        "        self.original_columns = X.columns\n",
        "\n",
        "        # Sort by index\n",
        "        self.X_train.sort_index(inplace=True)\n",
        "        self.X_train.reset_index(drop=True, inplace=True)\n",
        "        self.X_test.sort_index(inplace=True)\n",
        "        self.X_test.reset_index(drop=True, inplace=True)\n",
        "        self.y_train.sort_index(inplace=True)\n",
        "        self.y_train.reset_index(drop=True, inplace=True)\n",
        "        self.y_test.sort_index(inplace=True)\n",
        "        self.y_test.reset_index(drop=True, inplace=True)\n",
        "\n",
        "    def preprocessing_train(self, exclude_columns=None):\n",
        "        if exclude_columns is None:\n",
        "            exclude_columns = []\n",
        "\n",
        "        # Separate columns to scale and exclude\n",
        "        columns_to_scale = [col for col in self.X_train.columns if col not in exclude_columns]\n",
        "\n",
        "        # Scale only the specified columns\n",
        "        scaler = StandardScaler()\n",
        "        self.X_train[columns_to_scale] = scaler.fit_transform(self.X_train[columns_to_scale])\n",
        "        self.scalers = scaler\n",
        "\n",
        "        # # Perform PCA\n",
        "        self.pca = PCA(n_components=30)\n",
        "        pca_components = self.pca.fit_transform(self.X_train)\n",
        "        self.X_train = pd.DataFrame(pca_components, columns=self.original_columns[:pca_components.shape[1]])\n",
        "\n",
        "    def preprocessing_test(self):\n",
        "        # Apply stored scalers\n",
        "        self.X_test = pd.DataFrame(self.scalers.transform(self.X_test), columns=self.original_columns)\n",
        "\n",
        "        # # Apply PCA\n",
        "        pca_components = self.pca.transform(self.X_test)\n",
        "        self.X_test = pd.DataFrame(pca_components, columns=self.original_columns[:pca_components.shape[1]])"
      ],
      "metadata": {
        "id": "lmLx5bbgBtcq"
      },
      "execution_count": 21,
      "outputs": []
    },
    {
      "cell_type": "code",
      "source": [
        "# Calculating # ok\n",
        "data = Dataset('/content/drive/My Drive/Colab Notebooks/FTEC4998_9/loan_final313_processed.feather')\n",
        "data.basic_processing()\n",
        "data.train_test_split()\n",
        "data.preprocessing_train()\n",
        "data.preprocessing_test()"
      ],
      "metadata": {
        "id": "13kLSUwPBvO9"
      },
      "execution_count": 22,
      "outputs": []
    },
    {
      "cell_type": "code",
      "source": [
        "# Data conversion # ok\n",
        "train_x, train_y = data.X_train, data.y_train\n",
        "test_x, test_y = data.X_test, data.y_test\n",
        "counts = np.mean(train_y == 1) * 100\n",
        "print(counts)\n",
        "print(train_x.shape, train_y.shape)\n",
        "print(test_x.shape, test_y.shape)\n",
        "# Ensure y_train is binary\n",
        "assert set(train_y).issubset({0, 1}), \"Target values must be 0 or 1 for binary classification.\"\n",
        "# Move to GPU\n",
        "device = torch.device('cuda' if torch.cuda.is_available() else 'cpu')"
      ],
      "metadata": {
        "id": "EMPCAhUjB4tJ",
        "colab": {
          "base_uri": "https://localhost:8080/"
        },
        "outputId": "4a6c5a6a-de4e-43f6-99c8-93acfbe268c7"
      },
      "execution_count": 23,
      "outputs": [
        {
          "output_type": "stream",
          "name": "stdout",
          "text": [
            "7.5910370853482805\n",
            "(709903, 30) (709903,)\n",
            "(177476, 30) (177476,)\n"
          ]
        }
      ]
    },
    {
      "cell_type": "code",
      "source": [
        "print(train_x.shape)\n",
        "print(train_y.shape)"
      ],
      "metadata": {
        "colab": {
          "base_uri": "https://localhost:8080/"
        },
        "id": "FgrMPSarnzsb",
        "outputId": "1b028042-90ee-4823-eef6-43147653adea"
      },
      "execution_count": 24,
      "outputs": [
        {
          "output_type": "stream",
          "name": "stdout",
          "text": [
            "(709903, 30)\n",
            "(709903,)\n"
          ]
        }
      ]
    },
    {
      "cell_type": "code",
      "source": [
        "# Train, predict, and accuracy functions\n",
        "def train_model_pt(model): # ok\n",
        "    model.train()\n",
        "    for epoch in range(model.epochs):\n",
        "        model.optimizer.zero_grad()\n",
        "        outputs = model(model.train_x)\n",
        "        loss = model.criterion(outputs, model.train_y)\n",
        "        loss.backward()\n",
        "        model.optimizer.step()\n",
        "        if epoch % 5 == 0:\n",
        "            print(f'Epoch {epoch}, Loss: {loss.item()}')\n",
        "\n",
        "def predict_model_pt(model, X):\n",
        "    model.eval()\n",
        "    with torch.no_grad():\n",
        "        X = X.to(next(model.parameters()).device)\n",
        "        outputs = model(X).squeeze()\n",
        "        return (outputs > 0.5).float().cpu().numpy()  # Convert to numpy array\n",
        "def calculate_accuracy_pt(model, X, y, pred=None):\n",
        "    # Ensure X and y are on the correct device\n",
        "    X = X.to(next(model.parameters()).device)\n",
        "    y = y.to(next(model.parameters()).device)\n",
        "\n",
        "    # Get predictions\n",
        "    predictions = predict_model_pt(model, X) if pred is None else pred\n",
        "\n",
        "    # Ensure predictions and labels are tensors and the same shape\n",
        "    predictions = predictions.squeeze()\n",
        "    y = y.squeeze()\n",
        "\n",
        "    # Convert to tensors if necessary\n",
        "    if not isinstance(predictions, torch.Tensor):\n",
        "        predictions = torch.tensor(predictions)\n",
        "    if not isinstance(y, torch.Tensor):\n",
        "        y = torch.tensor(y)\n",
        "\n",
        "    # Calculate accuracy\n",
        "    correct = (predictions == y).sum().item()\n",
        "    accuracy = correct / len(y)\n",
        "    return accuracy\n",
        "\n",
        "def df_to_tensor(x, y):\n",
        "    assert isinstance(x, pd.DataFrame) and isinstance(y, pd.Series)\n",
        "    return torch.tensor(x.to_numpy(), dtype=torch.float32).to(device), torch.tensor(y.values.ravel(), dtype=torch.float32).unsqueeze(1).to(device)\n",
        "test_x, test_y = data.X_test, data.y_test\n",
        "test_x_tensor, test_y_tensor = df_to_tensor(data.X_test, data.y_test)"
      ],
      "metadata": {
        "id": "5UL36a0-Tq97"
      },
      "execution_count": 25,
      "outputs": []
    },
    {
      "cell_type": "code",
      "source": [
        "# MLP model\n",
        "class ANN(nn.Module):\n",
        "    def __init__(self, train_x, train_y, lr=0.001):\n",
        "        super(ANN, self).__init__()\n",
        "        self.train_y = torch.tensor(train_y.values.ravel(), dtype=torch.float32).unsqueeze(1).to(device)\n",
        "        self.train_x = torch.tensor(train_x.to_numpy(), dtype=torch.float32).to(device)\n",
        "        self.input_dim = self.train_x.shape[1]\n",
        "        self.net = nn.Sequential(\n",
        "            nn.Linear(self.input_dim, 28),\n",
        "            nn.LeakyReLU(0.1),\n",
        "            nn.Linear(28, 1),\n",
        "            nn.Sigmoid()\n",
        "        )\n",
        "        self._initialize_weights()\n",
        "        self.criterion = nn.BCELoss()\n",
        "        self.optimizer = optim.Adam(self.parameters(), lr=lr)\n",
        "        self.epochs = 90\n",
        "\n",
        "    def forward(self, x):\n",
        "        return self.net(x)\n",
        "    def _initialize_weights(self):\n",
        "        for m in self.net:\n",
        "            if isinstance(m, nn.Linear):\n",
        "                nn.init.xavier_uniform_(m.weight)\n",
        "                if m.bias is not None:\n",
        "                    nn.init.zeros_(m.bias)\n",
        "\n",
        "# Logistic Regression as a neural network\n",
        "class LogisticRegressionModel(nn.Module):\n",
        "    def __init__(self, train_x, train_y, lr=0.001):\n",
        "        super(LogisticRegressionModel, self).__init__()\n",
        "        self.train_y = torch.tensor(train_y.values.ravel(), dtype=torch.float32).unsqueeze(1).to(device)\n",
        "        self.train_x = torch.tensor(train_x.to_numpy(), dtype=torch.float32).to(device)\n",
        "        self.input_dim = self.train_x.shape[1]\n",
        "        self.net = nn.Sequential(\n",
        "            nn.Linear(self.input_dim, 1),\n",
        "            nn.Sigmoid()\n",
        "        )\n",
        "        self.criterion = nn.BCELoss()\n",
        "        self.optimizer = optim.Adam(self.parameters(), lr=lr)\n",
        "        self.epochs = 1200\n",
        "\n",
        "    def forward(self, x):\n",
        "        return self.net(x)\n",
        "\n",
        "# SVM\n",
        "class SVMClassifier():\n",
        "    def __init__(self, train_x, train_y, fraction=0.1):\n",
        "        # Sample a fraction of the data\n",
        "        self.train_x = train_x\n",
        "        self.train_y = train_y\n",
        "        self.model = None\n",
        "        self.prediction = None\n",
        "\n",
        "    def fit(self):\n",
        "        # Use Bagging with SVM\n",
        "        self.model = BaggingClassifier(\n",
        "            estimator=SVC(C=0.1, kernel='poly', degree=5, gamma='scale'),\n",
        "            n_estimators=6,\n",
        "            random_state=42,\n",
        "            max_samples=0.001\n",
        "        )\n",
        "        self.model.fit(self.train_x, self.train_y)\n",
        "\n",
        "    def predict(self, X):\n",
        "        return self.model.predict(X).astype(float)\n",
        "    def calculate_accuracy(self, X, y, pred=None):\n",
        "        predictions = self.model.predict(X).astype(float) if pred is None else pred\n",
        "        accuracy = accuracy_score(y, predictions)\n",
        "        return accuracy\n",
        "# NB\n",
        "class NaiveBayesClassifier():\n",
        "    def __init__(self, train_x, train_y, priors=None, var_smoothing=1e-9):\n",
        "        self.model = GaussianNB(priors=priors, var_smoothing=var_smoothing)\n",
        "        self.train_x = train_x\n",
        "        self.train_y = train_y\n",
        "        self.prediction = None\n",
        "\n",
        "    def fit(self):\n",
        "        self.model.fit(self.train_x, self.train_y)\n",
        "    def predict(self, X):\n",
        "        return self.model.predict(X).astype(float)\n",
        "    def calculate_accuracy(self, X, y, pred=None):\n",
        "        predictions = self.model.predict(X).astype(float) if pred is None else pred\n",
        "        accuracy = accuracy_score(y, predictions)\n",
        "        return accuracy\n",
        "# RF\n",
        "class RandomForestModel():\n",
        "    def __init__(self, train_x, train_y, n_estimators=10, max_depth=None, random_state=42):\n",
        "        self.model = RandomForestClassifier(n_estimators=n_estimators, max_depth=max_depth, random_state=random_state, max_samples = 0.05)\n",
        "        self.train_x = train_x\n",
        "        self.train_y = train_y\n",
        "        self.prediction = None\n",
        "\n",
        "    def fit(self):\n",
        "        self.model.fit(self.train_x, self.train_y)\n",
        "    def predict(self, X):\n",
        "        return self.model.predict(X).astype(float)\n",
        "    def calculate_accuracy(self, X, y, pred=None):\n",
        "        predictions = self.model.predict(X).astype(float) if pred is None else pred\n",
        "        accuracy = accuracy_score(y, predictions)\n",
        "        return accuracy"
      ],
      "metadata": {
        "id": "bqCIknAetfip"
      },
      "execution_count": 26,
      "outputs": []
    },
    {
      "cell_type": "code",
      "source": [],
      "metadata": {
        "id": "rCFVY87XPHjQ"
      },
      "execution_count": null,
      "outputs": []
    },
    {
      "cell_type": "code",
      "source": [
        "ann_model = ANN(train_x, train_y)\n",
        "train_model_pt(ann_model)\n",
        "acc = predict_model_pt(ann_model, ann_model.train_x)\n",
        "print(type(acc))\n",
        "print(np.unique(acc))\n",
        "print(calculate_accuracy_pt(ann_model, ann_model.train_x, ann_model.train_y, acc))"
      ],
      "metadata": {
        "collapsed": true,
        "colab": {
          "base_uri": "https://localhost:8080/",
          "height": 481
        },
        "id": "TfbVJt-wjpUL",
        "outputId": "b1e48180-0f51-4788-c539-658f83431b93"
      },
      "execution_count": 18,
      "outputs": [
        {
          "output_type": "stream",
          "name": "stdout",
          "text": [
            "Epoch 0, Loss: 1.073890209197998\n",
            "Epoch 5, Loss: 0.9966623187065125\n",
            "Epoch 10, Loss: 0.9242585897445679\n",
            "Epoch 15, Loss: 0.8569503426551819\n",
            "Epoch 20, Loss: 0.7945494651794434\n",
            "Epoch 25, Loss: 0.737194836139679\n"
          ]
        },
        {
          "output_type": "error",
          "ename": "KeyboardInterrupt",
          "evalue": "",
          "traceback": [
            "\u001b[0;31m---------------------------------------------------------------------------\u001b[0m",
            "\u001b[0;31mKeyboardInterrupt\u001b[0m                         Traceback (most recent call last)",
            "\u001b[0;32m<ipython-input-18-dbfd7141033d>\u001b[0m in \u001b[0;36m<cell line: 2>\u001b[0;34m()\u001b[0m\n\u001b[1;32m      1\u001b[0m \u001b[0mann_model\u001b[0m \u001b[0;34m=\u001b[0m \u001b[0mANN\u001b[0m\u001b[0;34m(\u001b[0m\u001b[0mtrain_x\u001b[0m\u001b[0;34m,\u001b[0m \u001b[0mtrain_y\u001b[0m\u001b[0;34m)\u001b[0m\u001b[0;34m\u001b[0m\u001b[0;34m\u001b[0m\u001b[0m\n\u001b[0;32m----> 2\u001b[0;31m \u001b[0mtrain_model_pt\u001b[0m\u001b[0;34m(\u001b[0m\u001b[0mann_model\u001b[0m\u001b[0;34m)\u001b[0m\u001b[0;34m\u001b[0m\u001b[0;34m\u001b[0m\u001b[0m\n\u001b[0m\u001b[1;32m      3\u001b[0m \u001b[0macc\u001b[0m \u001b[0;34m=\u001b[0m \u001b[0mpredict_model_pt\u001b[0m\u001b[0;34m(\u001b[0m\u001b[0mann_model\u001b[0m\u001b[0;34m,\u001b[0m \u001b[0mann_model\u001b[0m\u001b[0;34m.\u001b[0m\u001b[0mtrain_x\u001b[0m\u001b[0;34m)\u001b[0m\u001b[0;34m\u001b[0m\u001b[0;34m\u001b[0m\u001b[0m\n\u001b[1;32m      4\u001b[0m \u001b[0mprint\u001b[0m\u001b[0;34m(\u001b[0m\u001b[0mtype\u001b[0m\u001b[0;34m(\u001b[0m\u001b[0macc\u001b[0m\u001b[0;34m)\u001b[0m\u001b[0;34m)\u001b[0m\u001b[0;34m\u001b[0m\u001b[0;34m\u001b[0m\u001b[0m\n\u001b[1;32m      5\u001b[0m \u001b[0mprint\u001b[0m\u001b[0;34m(\u001b[0m\u001b[0mnp\u001b[0m\u001b[0;34m.\u001b[0m\u001b[0munique\u001b[0m\u001b[0;34m(\u001b[0m\u001b[0macc\u001b[0m\u001b[0;34m)\u001b[0m\u001b[0;34m)\u001b[0m\u001b[0;34m\u001b[0m\u001b[0;34m\u001b[0m\u001b[0m\n",
            "\u001b[0;32m<ipython-input-7-437063f32d82>\u001b[0m in \u001b[0;36mtrain_model_pt\u001b[0;34m(model)\u001b[0m\n\u001b[1;32m      6\u001b[0m         \u001b[0moutputs\u001b[0m \u001b[0;34m=\u001b[0m \u001b[0mmodel\u001b[0m\u001b[0;34m(\u001b[0m\u001b[0mmodel\u001b[0m\u001b[0;34m.\u001b[0m\u001b[0mtrain_x\u001b[0m\u001b[0;34m)\u001b[0m\u001b[0;34m\u001b[0m\u001b[0;34m\u001b[0m\u001b[0m\n\u001b[1;32m      7\u001b[0m         \u001b[0mloss\u001b[0m \u001b[0;34m=\u001b[0m \u001b[0mmodel\u001b[0m\u001b[0;34m.\u001b[0m\u001b[0mcriterion\u001b[0m\u001b[0;34m(\u001b[0m\u001b[0moutputs\u001b[0m\u001b[0;34m,\u001b[0m \u001b[0mmodel\u001b[0m\u001b[0;34m.\u001b[0m\u001b[0mtrain_y\u001b[0m\u001b[0;34m)\u001b[0m\u001b[0;34m\u001b[0m\u001b[0;34m\u001b[0m\u001b[0m\n\u001b[0;32m----> 8\u001b[0;31m         \u001b[0mloss\u001b[0m\u001b[0;34m.\u001b[0m\u001b[0mbackward\u001b[0m\u001b[0;34m(\u001b[0m\u001b[0;34m)\u001b[0m\u001b[0;34m\u001b[0m\u001b[0;34m\u001b[0m\u001b[0m\n\u001b[0m\u001b[1;32m      9\u001b[0m         \u001b[0mmodel\u001b[0m\u001b[0;34m.\u001b[0m\u001b[0moptimizer\u001b[0m\u001b[0;34m.\u001b[0m\u001b[0mstep\u001b[0m\u001b[0;34m(\u001b[0m\u001b[0;34m)\u001b[0m\u001b[0;34m\u001b[0m\u001b[0;34m\u001b[0m\u001b[0m\n\u001b[1;32m     10\u001b[0m         \u001b[0;32mif\u001b[0m \u001b[0mepoch\u001b[0m \u001b[0;34m%\u001b[0m \u001b[0;36m5\u001b[0m \u001b[0;34m==\u001b[0m \u001b[0;36m0\u001b[0m\u001b[0;34m:\u001b[0m\u001b[0;34m\u001b[0m\u001b[0;34m\u001b[0m\u001b[0m\n",
            "\u001b[0;32m/usr/local/lib/python3.10/dist-packages/torch/_tensor.py\u001b[0m in \u001b[0;36mbackward\u001b[0;34m(self, gradient, retain_graph, create_graph, inputs)\u001b[0m\n\u001b[1;32m    523\u001b[0m                 \u001b[0minputs\u001b[0m\u001b[0;34m=\u001b[0m\u001b[0minputs\u001b[0m\u001b[0;34m,\u001b[0m\u001b[0;34m\u001b[0m\u001b[0;34m\u001b[0m\u001b[0m\n\u001b[1;32m    524\u001b[0m             )\n\u001b[0;32m--> 525\u001b[0;31m         torch.autograd.backward(\n\u001b[0m\u001b[1;32m    526\u001b[0m             \u001b[0mself\u001b[0m\u001b[0;34m,\u001b[0m \u001b[0mgradient\u001b[0m\u001b[0;34m,\u001b[0m \u001b[0mretain_graph\u001b[0m\u001b[0;34m,\u001b[0m \u001b[0mcreate_graph\u001b[0m\u001b[0;34m,\u001b[0m \u001b[0minputs\u001b[0m\u001b[0;34m=\u001b[0m\u001b[0minputs\u001b[0m\u001b[0;34m\u001b[0m\u001b[0;34m\u001b[0m\u001b[0m\n\u001b[1;32m    527\u001b[0m         )\n",
            "\u001b[0;32m/usr/local/lib/python3.10/dist-packages/torch/autograd/__init__.py\u001b[0m in \u001b[0;36mbackward\u001b[0;34m(tensors, grad_tensors, retain_graph, create_graph, grad_variables, inputs)\u001b[0m\n\u001b[1;32m    265\u001b[0m     \u001b[0;31m# some Python versions print out the first line of a multi-line function\u001b[0m\u001b[0;34m\u001b[0m\u001b[0;34m\u001b[0m\u001b[0m\n\u001b[1;32m    266\u001b[0m     \u001b[0;31m# calls in the traceback and some print out the last line\u001b[0m\u001b[0;34m\u001b[0m\u001b[0;34m\u001b[0m\u001b[0m\n\u001b[0;32m--> 267\u001b[0;31m     _engine_run_backward(\n\u001b[0m\u001b[1;32m    268\u001b[0m         \u001b[0mtensors\u001b[0m\u001b[0;34m,\u001b[0m\u001b[0;34m\u001b[0m\u001b[0;34m\u001b[0m\u001b[0m\n\u001b[1;32m    269\u001b[0m         \u001b[0mgrad_tensors_\u001b[0m\u001b[0;34m,\u001b[0m\u001b[0;34m\u001b[0m\u001b[0;34m\u001b[0m\u001b[0m\n",
            "\u001b[0;32m/usr/local/lib/python3.10/dist-packages/torch/autograd/graph.py\u001b[0m in \u001b[0;36m_engine_run_backward\u001b[0;34m(t_outputs, *args, **kwargs)\u001b[0m\n\u001b[1;32m    742\u001b[0m         \u001b[0munregister_hooks\u001b[0m \u001b[0;34m=\u001b[0m \u001b[0m_register_logging_hooks_on_whole_graph\u001b[0m\u001b[0;34m(\u001b[0m\u001b[0mt_outputs\u001b[0m\u001b[0;34m)\u001b[0m\u001b[0;34m\u001b[0m\u001b[0;34m\u001b[0m\u001b[0m\n\u001b[1;32m    743\u001b[0m     \u001b[0;32mtry\u001b[0m\u001b[0;34m:\u001b[0m\u001b[0;34m\u001b[0m\u001b[0;34m\u001b[0m\u001b[0m\n\u001b[0;32m--> 744\u001b[0;31m         return Variable._execution_engine.run_backward(  # Calls into the C++ engine to run the backward pass\n\u001b[0m\u001b[1;32m    745\u001b[0m             \u001b[0mt_outputs\u001b[0m\u001b[0;34m,\u001b[0m \u001b[0;34m*\u001b[0m\u001b[0margs\u001b[0m\u001b[0;34m,\u001b[0m \u001b[0;34m**\u001b[0m\u001b[0mkwargs\u001b[0m\u001b[0;34m\u001b[0m\u001b[0;34m\u001b[0m\u001b[0m\n\u001b[1;32m    746\u001b[0m         )  # Calls into the C++ engine to run the backward pass\n",
            "\u001b[0;31mKeyboardInterrupt\u001b[0m: "
          ]
        }
      ]
    },
    {
      "cell_type": "code",
      "source": [
        "lr = LogisticRegressionModel(train_x, train_y)\n",
        "train_model_pt(lr)\n",
        "acc = predict_model_pt(lr, lr.train_x)\n",
        "print(type(acc))\n",
        "print(np.unique(acc))\n",
        "print(calculate_accuracy_pt(lr, lr.train_x, lr.train_y, acc))"
      ],
      "metadata": {
        "collapsed": true,
        "id": "G1AtR9GRkjop"
      },
      "execution_count": null,
      "outputs": []
    },
    {
      "cell_type": "code",
      "source": [
        "svm = SVMClassifier(train_x, train_y)\n",
        "svm.fit()\n",
        "acc = svm.predict(svm.train_x)\n",
        "print(type(acc))\n",
        "print(np.unique(acc))\n",
        "print(svm.calculate_accuracy(svm.train_x, svm.train_y, acc))"
      ],
      "metadata": {
        "id": "3lXSu6E8sWNX"
      },
      "execution_count": null,
      "outputs": []
    },
    {
      "cell_type": "code",
      "source": [
        "nb = NaiveBayesClassifier(train_x, train_y)\n",
        "nb.fit()\n",
        "acc = nb.predict(nb.train_x)\n",
        "print(type(acc))\n",
        "print(np.unique(acc))\n",
        "print(nb.calculate_accuracy(nb.train_x, nb.train_y, acc))"
      ],
      "metadata": {
        "id": "xo02qkAXt0lq"
      },
      "execution_count": null,
      "outputs": []
    },
    {
      "cell_type": "code",
      "source": [
        "rf = RandomForestModel(train_x, train_y)\n",
        "rf.fit()\n",
        "acc = rf.predict(rf.train_x)\n",
        "print(type(acc))\n",
        "print(np.unique(acc))\n",
        "print(rf.calculate_accuracy(rf.train_x, rf.train_y, acc))"
      ],
      "metadata": {
        "id": "z8ccQJfJt8xu"
      },
      "execution_count": null,
      "outputs": []
    },
    {
      "cell_type": "code",
      "source": [],
      "metadata": {
        "id": "jXeSfWlQPIWy"
      },
      "execution_count": null,
      "outputs": []
    },
    {
      "cell_type": "code",
      "source": [
        "import numpy as np\n",
        "import pandas as pd\n",
        "import inspect\n",
        "\n",
        "class Adaboost:\n",
        "    def __init__(self, classes_dict, train_x, train_y):\n",
        "        self.classes_dict = classes_dict\n",
        "        self.model_order = list(classes_dict.keys())\n",
        "        self.train_x = train_x\n",
        "        self.train_y = train_y\n",
        "        self.trained_model = {}\n",
        "        self.training_data_history = {'base': {'X': self.train_x, 'y': self.train_y}}\n",
        "        self.current_weight = None\n",
        "        self.weight_history = {}\n",
        "        self.restart = False\n",
        "        self.predictions = None\n",
        "\n",
        "    def weight_init(self): self.current_weight = pd.Series(np.ones(len(self.train_y)) / len(self.train_y))\n",
        "\n",
        "    def weight_calculate(self, predictions, labels):\n",
        "        incorrect = predictions != labels.to_numpy()\n",
        "        error_rate = self.current_weight[incorrect].sum()\n",
        "\n",
        "        print('Error rate is:', error_rate)\n",
        "\n",
        "        if error_rate > 0.5:\n",
        "            self.weight_init()\n",
        "            self.restart = True\n",
        "            return\n",
        "\n",
        "        alpha = 0.5 * np.log((1 - error_rate) / error_rate)\n",
        "\n",
        "        # Update weights\n",
        "        self.current_weight[incorrect] *= np.exp(alpha)\n",
        "        self.current_weight[~incorrect] *= np.exp(-alpha)\n",
        "\n",
        "        # Normalize weights\n",
        "        self.current_weight /= self.current_weight.sum()\n",
        "\n",
        "    def training(self):\n",
        "        self.weight_init()\n",
        "        for model in self.model_order:\n",
        "            while True:\n",
        "                self.restart = False\n",
        "                self.train_x['weight'] = self.current_weight\n",
        "                self.train_y = self.train_y.to_frame()\n",
        "                self.train_y['weight'] = self.current_weight\n",
        "                sampled_train_x = self.train_x.sample(n=len(self.train_x), replace=True, weights='weight', random_state=42)\n",
        "                del self.train_x['weight']\n",
        "                del sampled_train_x['weight']\n",
        "                sampled_train_x.sort_index(inplace=True)\n",
        "                sampled_train_x.reset_index(drop=True, inplace=True)\n",
        "                sampled_train_y = self.train_y.sample(n=len(self.train_y), replace=True, weights='weight', random_state=42)\n",
        "                del self.train_y['weight']\n",
        "                self.train_y = self.train_y.iloc[:, 0]\n",
        "                del sampled_train_y['weight']\n",
        "                sampled_train_y.sort_index(inplace=True)\n",
        "                sampled_train_y.reset_index(drop=True, inplace=True)\n",
        "                sampled_train_y = sampled_train_y.iloc[:, 0]\n",
        "\n",
        "                print(\"*\" * 37)\n",
        "                print(f'Training --------------------- {model}')\n",
        "                current_model = self.classes_dict[model](sampled_train_x, sampled_train_y)\n",
        "                methods = inspect.getmembers(current_model, predicate=inspect.ismethod)\n",
        "\n",
        "                if 'fit' in [z for z, _ in methods]:\n",
        "                    current_model.fit()\n",
        "                    print('Finish training.\\nStart predicting:')\n",
        "                    current_prediction = current_model.predict(current_model.train_x)\n",
        "                    train_accuracy = current_model.calculate_accuracy(current_model.train_x , current_model.train_y, current_prediction)\n",
        "                else:\n",
        "                    current_model.to(device)\n",
        "                    train_model_pt(current_model)\n",
        "                    print('Finish training.\\nStart predicting:')\n",
        "                    current_prediction = predict_model_pt(current_model, current_model.train_x)\n",
        "                    train_accuracy = calculate_accuracy_pt(current_model, current_model.train_x, current_model.train_y, current_prediction)\n",
        "\n",
        "                print(f'{model} training accuracy:', train_accuracy)\n",
        "                self.weight_calculate(current_prediction, sampled_train_y)\n",
        "\n",
        "                if not self.restart:\n",
        "                    self.train_x, self.train_y = sampled_train_x, sampled_train_y\n",
        "                    self.training_data_history[model] = {'X': sampled_train_x, 'y': sampled_train_y}\n",
        "                    self.trained_model[model] = current_model\n",
        "                    break\n",
        "\n",
        "    def predict(self, X):\n",
        "        # Ensure X is a pandas DataFrame\n",
        "        assert isinstance(X, pd.DataFrame), \"Input X should be a pandas DataFrame\"\n",
        "\n",
        "        # Collect predictions from each trained model\n",
        "        model_predictions = {}\n",
        "        for model_name, model in self.trained_model.items():\n",
        "            methods = inspect.getmembers(model, predicate=inspect.ismethod)\n",
        "\n",
        "            # Check if the model has predict or use predict_model_pt\n",
        "            if 'predict' in [z for z, _ in methods]: preds = model.predict(X)\n",
        "            else: preds = predict_model_pt(model, torch.tensor(X.to_numpy(), dtype=torch.float32).to(device))\n",
        "\n",
        "            # Ensure predictions are in numpy array format\n",
        "            assert isinstance(preds, np.ndarray), f\"Predictions from {model_name} should be a numpy array\"\n",
        "\n",
        "            # Only convert if preds contain values other than 0 and 1\n",
        "            if not np.array_equal(np.unique(preds), [0, 1]):\n",
        "                print('Alert --- ', np.unique(preds))\n",
        "                preds = np.where(preds > 0.5, 1, 0)\n",
        "\n",
        "            model_predictions[model_name] = preds\n",
        "\n",
        "        # Voting mechanism\n",
        "        predictions = np.zeros(len(X))\n",
        "        for i in range(len(X)):\n",
        "            votes = {}\n",
        "            for model_name, preds in model_predictions.items():\n",
        "                pred = preds[i]\n",
        "                if pred in votes:\n",
        "                    votes[pred] += 1\n",
        "                else:\n",
        "                    votes[pred] = 1\n",
        "            # Choose the class with the most votes\n",
        "            predictions[i] = max(votes, key=votes.get)\n",
        "\n",
        "        # Ensure predictions are in numpy array format\n",
        "        assert isinstance(predictions, np.ndarray), \"Final predictions should be a numpy array\"\n",
        "\n",
        "        self.predictions = predictions\n",
        "        return predictions\n",
        "\n",
        "    def calculate_accuracy(self, y):\n",
        "        # Ensure predictions is a numpy array\n",
        "        assert isinstance(self.predictions, np.ndarray), \"Predictions should be a numpy array\"\n",
        "\n",
        "        # Ensure y is a pandas Series\n",
        "        assert isinstance(y, pd.Series), \"y should be a pandas Series\"\n",
        "\n",
        "        # Ensure both have the same length\n",
        "        assert len(self.predictions) == len(y), \"Predictions and y should have the same length\"\n",
        "\n",
        "        accuracy = np.mean(self.predictions == y.to_numpy())\n",
        "        return accuracy\n"
      ],
      "metadata": {
        "id": "fkw5jbXSIpfK",
        "collapsed": true
      },
      "execution_count": 27,
      "outputs": []
    },
    {
      "cell_type": "code",
      "source": [
        "adModel = Adaboost(classes_dict={\"ANN\": ANN, \"LR\": LogisticRegressionModel, \"SVM\": SVMClassifier, \"NB\": NaiveBayesClassifier, \"RF\": RandomForestModel}, train_x=train_x, train_y=train_y)\n",
        "# adModel = Adaboost(classes_dict={\"ANN\": ANN, \"LR\": LogisticRegressionModel, \"NB\": NaiveBayesClassifier, \"RF\": RandomForestModel}, train_x=train_x, train_y=train_y)\n",
        "adModel.training()\n",
        "print(\"Prediction: \", adModel.predict(train_x))\n",
        "print(\"Training_accuracy: \", adModel.calculate_accuracy(train_y))"
      ],
      "metadata": {
        "colab": {
          "base_uri": "https://localhost:8080/"
        },
        "id": "cQ2vWXWUydAs",
        "outputId": "c2990780-57de-4182-eec9-a0707cf367e0"
      },
      "execution_count": null,
      "outputs": [
        {
          "output_type": "stream",
          "name": "stdout",
          "text": [
            "*************************************\n",
            "Training --------------------- ANN\n",
            "Epoch 0, Loss: 0.6909123659133911\n",
            "Epoch 5, Loss: 0.6327154636383057\n",
            "Epoch 10, Loss: 0.5796380043029785\n",
            "Epoch 15, Loss: 0.5326704978942871\n",
            "Epoch 20, Loss: 0.49112415313720703\n",
            "Epoch 25, Loss: 0.45480430126190186\n",
            "Epoch 30, Loss: 0.4233303368091583\n",
            "Epoch 35, Loss: 0.3962113857269287\n",
            "Epoch 40, Loss: 0.37290772795677185\n",
            "Epoch 45, Loss: 0.35288748145103455\n",
            "Epoch 50, Loss: 0.3356587290763855\n",
            "Epoch 55, Loss: 0.3207933008670807\n",
            "Epoch 60, Loss: 0.3079274594783783\n",
            "Epoch 65, Loss: 0.296748548746109\n",
            "Epoch 70, Loss: 0.28699952363967896\n",
            "Epoch 75, Loss: 0.2784624993801117\n",
            "Epoch 80, Loss: 0.2709578275680542\n",
            "Epoch 85, Loss: 0.26433616876602173\n",
            "Finish training.\n",
            "Start predicting:\n",
            "ANN training accuracy: 0.9366744470723465\n",
            "Error rate is: 0.0633255529276535\n",
            "*************************************\n",
            "Training --------------------- LR\n",
            "Epoch 0, Loss: 0.8042974472045898\n",
            "Epoch 5, Loss: 0.7262632250785828\n",
            "Epoch 10, Loss: 0.6733663082122803\n",
            "Epoch 15, Loss: 0.6404281854629517\n",
            "Epoch 20, Loss: 0.6193164587020874\n",
            "Epoch 25, Loss: 0.6048148274421692\n",
            "Epoch 30, Loss: 0.5938692688941956\n",
            "Epoch 35, Loss: 0.5865983963012695\n",
            "Epoch 40, Loss: 0.5815423727035522\n",
            "Epoch 45, Loss: 0.5780150890350342\n",
            "Epoch 50, Loss: 0.5755160450935364\n",
            "Epoch 55, Loss: 0.5737165212631226\n",
            "Epoch 60, Loss: 0.5723665952682495\n",
            "Epoch 65, Loss: 0.5712886452674866\n",
            "Epoch 70, Loss: 0.5703901648521423\n",
            "Epoch 75, Loss: 0.5696228742599487\n",
            "Epoch 80, Loss: 0.5689710378646851\n",
            "Epoch 85, Loss: 0.5684173703193665\n",
            "Epoch 90, Loss: 0.5679458975791931\n",
            "Epoch 95, Loss: 0.5675415992736816\n",
            "Epoch 100, Loss: 0.5671952962875366\n",
            "Epoch 105, Loss: 0.5668989419937134\n",
            "Epoch 110, Loss: 0.5666444301605225\n",
            "Epoch 115, Loss: 0.5664250254631042\n",
            "Epoch 120, Loss: 0.5662351250648499\n",
            "Epoch 125, Loss: 0.5660704970359802\n",
            "Epoch 130, Loss: 0.5659276247024536\n",
            "Epoch 135, Loss: 0.5658034682273865\n",
            "Epoch 140, Loss: 0.5656952857971191\n",
            "Epoch 145, Loss: 0.5656009316444397\n",
            "Epoch 150, Loss: 0.5655185580253601\n",
            "Epoch 155, Loss: 0.5654464364051819\n",
            "Epoch 160, Loss: 0.5653831958770752\n",
            "Epoch 165, Loss: 0.5653277039527893\n",
            "Epoch 170, Loss: 0.5652788281440735\n",
            "Epoch 175, Loss: 0.5652355551719666\n",
            "Epoch 180, Loss: 0.5651973485946655\n",
            "Epoch 185, Loss: 0.5651633739471436\n",
            "Epoch 190, Loss: 0.5651332139968872\n",
            "Epoch 195, Loss: 0.5651060938835144\n",
            "Epoch 200, Loss: 0.5650818943977356\n",
            "Epoch 205, Loss: 0.5650599598884583\n",
            "Epoch 210, Loss: 0.565040111541748\n",
            "Epoch 215, Loss: 0.5650221705436707\n",
            "Epoch 220, Loss: 0.5650056004524231\n",
            "Epoch 225, Loss: 0.5649904012680054\n",
            "Epoch 230, Loss: 0.5649763345718384\n",
            "Epoch 235, Loss: 0.564963161945343\n",
            "Epoch 240, Loss: 0.5649508833885193\n",
            "Epoch 245, Loss: 0.5649393200874329\n",
            "Epoch 250, Loss: 0.5649283528327942\n",
            "Epoch 255, Loss: 0.5649179816246033\n",
            "Epoch 260, Loss: 0.5649080276489258\n",
            "Epoch 265, Loss: 0.5648983716964722\n",
            "Epoch 270, Loss: 0.5648890733718872\n",
            "Epoch 275, Loss: 0.5648800134658813\n",
            "Epoch 280, Loss: 0.5648711919784546\n",
            "Epoch 285, Loss: 0.5648626685142517\n",
            "Epoch 290, Loss: 0.564854085445404\n",
            "Epoch 295, Loss: 0.564845860004425\n",
            "Epoch 300, Loss: 0.5648377537727356\n",
            "Epoch 305, Loss: 0.5648295879364014\n",
            "Epoch 310, Loss: 0.5648214817047119\n",
            "Epoch 315, Loss: 0.5648135542869568\n",
            "Epoch 320, Loss: 0.5648057460784912\n",
            "Epoch 325, Loss: 0.5647978782653809\n",
            "Epoch 330, Loss: 0.5647901296615601\n",
            "Epoch 335, Loss: 0.5647823810577393\n",
            "Epoch 340, Loss: 0.5647746324539185\n",
            "Epoch 345, Loss: 0.5647669434547424\n",
            "Epoch 350, Loss: 0.5647593140602112\n",
            "Epoch 355, Loss: 0.5647516846656799\n",
            "Epoch 360, Loss: 0.5647441148757935\n",
            "Epoch 365, Loss: 0.5647364258766174\n",
            "Epoch 370, Loss: 0.5647289752960205\n",
            "Epoch 375, Loss: 0.5647212862968445\n",
            "Epoch 380, Loss: 0.5647138357162476\n",
            "Epoch 385, Loss: 0.5647062659263611\n",
            "Epoch 390, Loss: 0.5646988749504089\n",
            "Epoch 395, Loss: 0.5646913051605225\n",
            "Epoch 400, Loss: 0.5646839141845703\n",
            "Epoch 405, Loss: 0.5646764636039734\n",
            "Epoch 410, Loss: 0.5646690726280212\n",
            "Epoch 415, Loss: 0.5646616816520691\n",
            "Epoch 420, Loss: 0.5646544098854065\n",
            "Epoch 425, Loss: 0.5646469593048096\n",
            "Epoch 430, Loss: 0.5646397471427917\n",
            "Epoch 435, Loss: 0.5646324157714844\n",
            "Epoch 440, Loss: 0.5646251440048218\n",
            "Epoch 445, Loss: 0.564617931842804\n",
            "Epoch 450, Loss: 0.5646107196807861\n",
            "Epoch 455, Loss: 0.5646035671234131\n",
            "Epoch 460, Loss: 0.5645964741706848\n",
            "Epoch 465, Loss: 0.5645893812179565\n",
            "Epoch 470, Loss: 0.5645822286605835\n",
            "Epoch 475, Loss: 0.5645751953125\n",
            "Epoch 480, Loss: 0.5645682215690613\n",
            "Epoch 485, Loss: 0.5645611882209778\n",
            "Epoch 490, Loss: 0.5645543336868286\n",
            "Epoch 495, Loss: 0.5645473599433899\n",
            "Epoch 500, Loss: 0.5645405054092407\n",
            "Epoch 505, Loss: 0.5645337104797363\n",
            "Epoch 510, Loss: 0.5645269155502319\n",
            "Epoch 515, Loss: 0.5645200610160828\n",
            "Epoch 520, Loss: 0.5645133852958679\n",
            "Epoch 525, Loss: 0.5645067095756531\n",
            "Epoch 530, Loss: 0.564500093460083\n",
            "Epoch 535, Loss: 0.5644934773445129\n",
            "Epoch 540, Loss: 0.5644869208335876\n",
            "Epoch 545, Loss: 0.5644803643226624\n",
            "Epoch 550, Loss: 0.5644738078117371\n",
            "Epoch 555, Loss: 0.5644674301147461\n",
            "Epoch 560, Loss: 0.5644610524177551\n",
            "Epoch 565, Loss: 0.5644546747207642\n",
            "Epoch 570, Loss: 0.5644484162330627\n",
            "Epoch 575, Loss: 0.5644420981407166\n",
            "Epoch 580, Loss: 0.5644358396530151\n",
            "Epoch 585, Loss: 0.5644296407699585\n",
            "Epoch 590, Loss: 0.5644235610961914\n",
            "Epoch 595, Loss: 0.5644174814224243\n",
            "Epoch 600, Loss: 0.5644114017486572\n",
            "Epoch 605, Loss: 0.5644053816795349\n",
            "Epoch 610, Loss: 0.5643994212150574\n",
            "Epoch 615, Loss: 0.5643934607505798\n",
            "Epoch 620, Loss: 0.5643876194953918\n",
            "Epoch 625, Loss: 0.5643818378448486\n",
            "Epoch 630, Loss: 0.5643760561943054\n",
            "Epoch 635, Loss: 0.564370334148407\n",
            "Epoch 640, Loss: 0.5643646121025085\n",
            "Epoch 645, Loss: 0.5643589496612549\n",
            "Epoch 650, Loss: 0.564353346824646\n",
            "Epoch 655, Loss: 0.5643478631973267\n",
            "Epoch 660, Loss: 0.5643423199653625\n",
            "Epoch 665, Loss: 0.564336895942688\n",
            "Epoch 670, Loss: 0.5643314719200134\n",
            "Epoch 675, Loss: 0.5643261075019836\n",
            "Epoch 680, Loss: 0.5643208622932434\n",
            "Epoch 685, Loss: 0.5643154978752136\n",
            "Epoch 690, Loss: 0.5643103718757629\n",
            "Epoch 695, Loss: 0.5643051266670227\n",
            "Finish training.\n",
            "Start predicting:\n",
            "LR training accuracy: 0.7086587885950616\n",
            "Error rate is: 0.2924897821351546\n",
            "*************************************\n",
            "Training --------------------- SVM\n",
            "Finish training.\n",
            "Start predicting:\n"
          ]
        }
      ]
    },
    {
      "cell_type": "code",
      "source": [],
      "metadata": {
        "colab": {
          "base_uri": "https://localhost:8080/"
        },
        "id": "GkyIq7qE0MZk",
        "outputId": "ff5d9c64-c878-4fc0-9e3c-7fc76e2a4e31"
      },
      "execution_count": 52,
      "outputs": [
        {
          "output_type": "stream",
          "name": "stdout",
          "text": [
            "(709903, 30)\n",
            "(709903, 30)\n"
          ]
        }
      ]
    },
    {
      "cell_type": "code",
      "source": [
        "print('Finish training.\\nStart predicting')"
      ],
      "metadata": {
        "colab": {
          "base_uri": "https://localhost:8080/"
        },
        "id": "dsGPYfJhonZY",
        "outputId": "3d54b310-7eaf-4810-8085-9cfe5e2992af"
      },
      "execution_count": 16,
      "outputs": [
        {
          "output_type": "stream",
          "name": "stdout",
          "text": [
            "Finish training.\n",
            "Start predicting\n"
          ]
        }
      ]
    },
    {
      "cell_type": "code",
      "source": [],
      "metadata": {
        "id": "4olt-V4uO4JA"
      },
      "execution_count": null,
      "outputs": []
    }
  ]
}