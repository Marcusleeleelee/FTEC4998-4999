{
  "nbformat": 4,
  "nbformat_minor": 0,
  "metadata": {
    "colab": {
      "provenance": [],
      "toc_visible": true,
      "authorship_tag": "ABX9TyPgiJM3qy8rW2p+45xybjqI",
      "include_colab_link": true
    },
    "kernelspec": {
      "name": "python3",
      "display_name": "Python 3"
    },
    "language_info": {
      "name": "python"
    }
  },
  "cells": [
    {
      "cell_type": "markdown",
      "metadata": {
        "id": "view-in-github",
        "colab_type": "text"
      },
      "source": [
        "<a href=\"https://colab.research.google.com/github/Marcusleeleelee/FTEC4998-4999/blob/main/FTEC4998_4999.ipynb\" target=\"_parent\"><img src=\"https://colab.research.google.com/assets/colab-badge.svg\" alt=\"Open In Colab\"/></a>"
      ]
    },
    {
      "cell_type": "code",
      "source": [
        "# Import necessary packages\n",
        "import pandas as pd\n",
        "import numpy as np\n",
        "from sklearn.linear_model import LogisticRegression\n",
        "from sklearn.neighbors import KNeighborsClassifier\n",
        "from sklearn.ensemble import RandomForestClassifier, AdaBoostClassifier, BaggingClassifier\n",
        "from sklearn.svm import SVC\n",
        "from sklearn.decomposition import PCA\n",
        "from sklearn.model_selection import train_test_split, GridSearchCV\n",
        "from sklearn.metrics import accuracy_score, classification_report, confusion_matrix\n",
        "from sklearn.naive_bayes import GaussianNB\n",
        "from sklearn.neural_network import MLPClassifier\n",
        "from sklearn.pipeline import Pipeline\n",
        "from sklearn.preprocessing import StandardScaler\n",
        "import torch\n",
        "import torch.nn as nn\n",
        "import torch.optim as optim\n",
        "import torch.nn.functional as F\n",
        "from google.colab import drive\n",
        "from tqdm import tqdm\n",
        "\n",
        "# Mount Google Drive\n",
        "drive.mount('/content/drive')"
      ],
      "metadata": {
        "id": "9Irism69Bo6L",
        "colab": {
          "base_uri": "https://localhost:8080/"
        },
        "outputId": "3d46ac31-b3ac-4549-fcd3-8420f13cb523"
      },
      "execution_count": 55,
      "outputs": [
        {
          "output_type": "stream",
          "name": "stdout",
          "text": [
            "Drive already mounted at /content/drive; to attempt to forcibly remount, call drive.mount(\"/content/drive\", force_remount=True).\n"
          ]
        }
      ]
    },
    {
      "cell_type": "code",
      "source": [
        "# Step 1: Utils - ok\n",
        "def uni_list(input): return list(set(input))"
      ],
      "metadata": {
        "id": "ndu77M8kBr-h"
      },
      "execution_count": 56,
      "outputs": []
    },
    {
      "cell_type": "code",
      "source": [
        "class Dataset():\n",
        "    def __init__(self, file_path):\n",
        "        self.dataset = pd.read_feather(file_path)\n",
        "        self.X_train, self.y_train = None, None\n",
        "        self.X_test, self.y_test = None, None\n",
        "        self.scalers = None\n",
        "        self.pca = None\n",
        "        self.label = 'loan_condition_cat'\n",
        "        self.original_columns = None\n",
        "\n",
        "    def show(self, rows=10):\n",
        "        return self.dataset.head(rows)\n",
        "\n",
        "    def basic_processing(self):\n",
        "        temp_func_1 = lambda x: '<=2009' if str(x) in ['2007', '2008', '2009'] else (\"[2010, 2012]\" if str(x) in ['2010', '2011', '2012'] else '>=2013')\n",
        "        columns_to_delete = [\n",
        "            'id', 'issue_d', 'home_ownership_cat', 'income_category', 'income_cat', 'term_cat', 'application_type_cat',\n",
        "            'purpose_cat', 'interest_payment_cat', 'loan_condition'\n",
        "        ]\n",
        "        self.dataset.drop(columns=columns_to_delete, inplace=True)\n",
        "        self.dataset['grade'] = self.dataset['grade'].apply(temp_func_1)\n",
        "        self.dataset['final_d'] = self.dataset['final_d'].apply(lambda x: str(x)[-4:]).apply(temp_func_1)\n",
        "        self.dataset = pd.get_dummies(self.dataset, columns=['year', 'final_d', 'home_ownership', 'term', 'application_type',\n",
        "                                                             'purpose', 'interest_payments', 'grade', 'region'], dtype=int)\n",
        "\n",
        "    def train_test_split(self, test_size=0.2, random_state=42):\n",
        "        X = self.dataset.drop(columns=[self.label])\n",
        "        y = self.dataset[self.label]\n",
        "        self.X_train, self.X_test, self.y_train, self.y_test = train_test_split(X, y, test_size=test_size, random_state=random_state)\n",
        "        self.original_columns = X.columns\n",
        "\n",
        "    def preprocessing_train(self):\n",
        "        scaler = StandardScaler()\n",
        "        self.X_train = pd.DataFrame(scaler.fit_transform(self.X_train), columns=self.original_columns)\n",
        "        self.scalers = scaler\n",
        "\n",
        "        # Perform PCA\n",
        "        self.pca = PCA(n_components=30)\n",
        "        pca_components = self.pca.fit_transform(self.X_train)\n",
        "        self.X_train = pd.DataFrame(pca_components, columns=self.original_columns[:pca_components.shape[1]])\n",
        "\n",
        "    def preprocessing_test(self):\n",
        "        # Apply stored scalers\n",
        "        self.X_test = pd.DataFrame(self.scalers.transform(self.X_test), columns=self.original_columns)\n",
        "\n",
        "        # Apply PCA\n",
        "        pca_components = self.pca.transform(self.X_test)\n",
        "        self.X_test = pd.DataFrame(pca_components, columns=self.original_columns[:pca_components.shape[1]])"
      ],
      "metadata": {
        "id": "lmLx5bbgBtcq"
      },
      "execution_count": 57,
      "outputs": []
    },
    {
      "cell_type": "code",
      "source": [
        "# Calculating # ok\n",
        "data = Dataset('/content/drive/My Drive/Colab Notebooks/FTEC4998_9/loan_final313_processed.feather')\n",
        "data.basic_processing()\n",
        "data.train_test_split()\n",
        "data.preprocessing_train()\n",
        "data.preprocessing_test()"
      ],
      "metadata": {
        "id": "13kLSUwPBvO9"
      },
      "execution_count": 58,
      "outputs": []
    },
    {
      "cell_type": "code",
      "source": [
        "# Data conversion # ok\n",
        "train_x, train_y = data.X_train, data.y_train\n",
        "test_x, test_y = data.X_test, data.y_test\n",
        "counts = np.mean(train_y == 1) * 100\n",
        "print(counts)\n",
        "print(train_x.shape, train_y.shape)\n",
        "print(test_x.shape, test_y.shape)\n",
        "# Ensure y_train is binary\n",
        "assert set(train_y).issubset({0, 1}), \"Target values must be 0 or 1 for binary classification.\"\n",
        "\n",
        "# Convert to tensors and move to GPU\n",
        "device = torch.device('cuda' if torch.cuda.is_available() else 'cpu')\n",
        "X_train_tensor = torch.tensor(train_x.to_numpy(), dtype=torch.float32).to(device)\n",
        "y_train_tensor = torch.tensor(train_y.values.ravel(), dtype=torch.float32).unsqueeze(1).to(device)\n",
        "X_test_tensor = torch.tensor(test_x.to_numpy(), dtype=torch.float32).to(device)\n",
        "y_test_tensor = torch.tensor(test_y.values.ravel(), dtype=torch.float32).unsqueeze(1).to(device)"
      ],
      "metadata": {
        "id": "EMPCAhUjB4tJ",
        "colab": {
          "base_uri": "https://localhost:8080/"
        },
        "outputId": "b34c71d5-7362-4eca-91bf-048eb7ba5f86"
      },
      "execution_count": 59,
      "outputs": [
        {
          "output_type": "stream",
          "name": "stdout",
          "text": [
            "7.5910370853482805\n",
            "(709903, 30) (709903,)\n",
            "(177476, 30) (177476,)\n"
          ]
        }
      ]
    },
    {
      "cell_type": "code",
      "source": [
        "# Train, predict, and accuracy functions\n",
        "def train_model(model): # ok\n",
        "    print(\"Training\")\n",
        "    model.train()\n",
        "    for epoch in range(model.epochs):\n",
        "        model.optimizer.zero_grad()\n",
        "        outputs = model(model.X_train_tensor)\n",
        "        loss = model.criterion(outputs, model.y_train_tensor)\n",
        "        loss.backward()\n",
        "        model.optimizer.step()\n",
        "        if epoch % 10 == 0:\n",
        "            print(f'Epoch {epoch}, Loss: {loss.item()}')\n",
        "\n",
        "\n",
        "def predict_model(model, X_tensor):\n",
        "    print('Predicting')\n",
        "    model.eval()\n",
        "    with torch.no_grad():\n",
        "        outputs = model(X_tensor).squeeze()\n",
        "        return (outputs > 0.5).float()\n",
        "\n",
        "def calculate_accuracy(model, X_tensor, y_tensor):\n",
        "    print('Calculating Accuracy.')\n",
        "    X_tensor = X_tensor.to(next(model.parameters()).device)\n",
        "    y_tensor = y_tensor.to(next(model.parameters()).device)\n",
        "    predictions = predict_model(model, X_tensor)\n",
        "\n",
        "    # Ensure predictions and labels are the same shape\n",
        "    predictions = predictions.squeeze()\n",
        "    y_tensor = y_tensor.squeeze()\n",
        "\n",
        "    correct = (predictions == y_tensor).sum().item()\n",
        "    accuracy = correct / y_tensor.size(0)\n",
        "    return accuracy"
      ],
      "metadata": {
        "id": "5UL36a0-Tq97"
      },
      "execution_count": 60,
      "outputs": []
    },
    {
      "cell_type": "code",
      "source": [
        "# Train ANN\n",
        "# MLP model\n",
        "class ANN(nn.Module):\n",
        "    def __init__(self, X_train_tensor, y_train_tensor, lr=0.001):\n",
        "        super(ANN, self).__init__()\n",
        "        self.input_dim = X_train_tensor.shape[1]\n",
        "        self.net = nn.Sequential(\n",
        "            nn.Linear(self.input_dim, 128),\n",
        "            nn.BatchNorm1d(128),\n",
        "            nn.LeakyReLU(0.2),\n",
        "            nn.Dropout(0.3),\n",
        "            nn.Linear(128, 64),\n",
        "            nn.BatchNorm1d(64),\n",
        "            nn.LeakyReLU(0.1),\n",
        "            nn.Dropout(0.3),\n",
        "            nn.Linear(64, 32),\n",
        "            nn.BatchNorm1d(32),\n",
        "            nn.LeakyReLU(0.03),\n",
        "            nn.Dropout(0.3),\n",
        "            nn.Linear(32, 1),\n",
        "            nn.Sigmoid()\n",
        "        )\n",
        "        self.criterion = nn.BCELoss()\n",
        "        self.optimizer = optim.Adam(self.parameters(), lr=lr)\n",
        "        self.epochs = 100\n",
        "        self.y_train_tensor = y_train_tensor\n",
        "        self.X_train_tensor = X_train_tensor\n",
        "\n",
        "    def forward(self, x):\n",
        "        return self.net(x)\n",
        "ann_model = ANN(X_train_tensor, y_train_tensor).to(device)\n",
        "train_model(ann_model)\n",
        "ann_predictions = predict_model(ann_model, X_train_tensor).cpu().numpy()\n",
        "print('ANN train:', calculate_accuracy(ann_model, ann_model.X_train_tensor, ann_model.y_train_tensor))\n",
        "print('ANN test:', calculate_accuracy(ann_model, X_test_tensor, y_test_tensor))"
      ],
      "metadata": {
        "collapsed": true,
        "colab": {
          "base_uri": "https://localhost:8080/"
        },
        "id": "sblUgiO6S2PU",
        "outputId": "d863a49b-0a0f-48f0-c268-47b4e5ffab06"
      },
      "execution_count": 61,
      "outputs": [
        {
          "output_type": "stream",
          "name": "stdout",
          "text": [
            "Training\n",
            "Epoch 0, Loss: 0.6320598721504211\n",
            "Epoch 10, Loss: 0.5233052372932434\n",
            "Epoch 20, Loss: 0.455554723739624\n",
            "Epoch 30, Loss: 0.40684929490089417\n",
            "Epoch 40, Loss: 0.369559645652771\n",
            "Epoch 50, Loss: 0.3382631540298462\n",
            "Epoch 60, Loss: 0.31156885623931885\n",
            "Epoch 70, Loss: 0.2894217073917389\n",
            "Epoch 80, Loss: 0.2711659073829651\n",
            "Epoch 90, Loss: 0.2562571167945862\n",
            "Predicting\n",
            "Calculating Accuracy.\n",
            "Predicting\n",
            "ANN train: 0.9461095389088369\n",
            "Calculating Accuracy.\n",
            "Predicting\n",
            "ANN test: 0.9458180260993035\n"
          ]
        }
      ]
    },
    {
      "cell_type": "code",
      "source": [
        "print(ann_predictions)\n",
        "print(type(ann_predictions))\n",
        "print(np.unique(ann_predictions))"
      ],
      "metadata": {
        "colab": {
          "base_uri": "https://localhost:8080/"
        },
        "id": "uF7ablcRf21U",
        "outputId": "f229753c-f5f4-400b-b377-b9c727697948"
      },
      "execution_count": 62,
      "outputs": [
        {
          "output_type": "stream",
          "name": "stdout",
          "text": [
            "[0. 0. 0. ... 0. 0. 0.]\n",
            "<class 'numpy.ndarray'>\n",
            "[0. 1.]\n"
          ]
        }
      ]
    },
    {
      "cell_type": "code",
      "source": [
        "# Logistic Regression as a neural network\n",
        "class LogisticRegressionModel(nn.Module):\n",
        "    def __init__(self, X_train_tensor, y_train_tensor, lr=0.01):\n",
        "        super(LogisticRegressionModel, self).__init__()\n",
        "        self.input_dim = X_train_tensor.shape[1]\n",
        "        self.net = nn.Sequential(\n",
        "            nn.Linear(self.input_dim, 1),\n",
        "            nn.Sigmoid()\n",
        "        )\n",
        "        self.criterion = nn.BCELoss()\n",
        "        self.optimizer = optim.Adam(self.parameters(), lr=lr)\n",
        "        self.epochs = 700\n",
        "        self.y_train_tensor = y_train_tensor\n",
        "        self.X_train_tensor = X_train_tensor\n",
        "\n",
        "    def forward(self, x):\n",
        "        return self.net(x)\n",
        "log_reg = LogisticRegressionModel(X_train_tensor, y_train_tensor).to(device)\n",
        "train_model(log_reg)\n",
        "log_reg_predictions = predict_model(log_reg, X_train_tensor).cpu().numpy()\n",
        "print('Logistic Regression train:', calculate_accuracy(log_reg, log_reg.X_train_tensor, log_reg.y_train_tensor))\n",
        "print('Logistic Regression test:', calculate_accuracy(log_reg, X_test_tensor, y_test_tensor))"
      ],
      "metadata": {
        "collapsed": true,
        "colab": {
          "base_uri": "https://localhost:8080/"
        },
        "id": "ZuSNLiKoWoyE",
        "outputId": "e1233bd8-21c2-4743-c821-a657d16ae45a"
      },
      "execution_count": 63,
      "outputs": [
        {
          "output_type": "stream",
          "name": "stdout",
          "text": [
            "Training\n",
            "Epoch 0, Loss: 0.8041287660598755\n",
            "Epoch 10, Loss: 0.6881495714187622\n",
            "Epoch 20, Loss: 0.6203729510307312\n",
            "Epoch 30, Loss: 0.5704099535942078\n",
            "Epoch 40, Loss: 0.5297396183013916\n",
            "Epoch 50, Loss: 0.4944502115249634\n",
            "Epoch 60, Loss: 0.4639311134815216\n",
            "Epoch 70, Loss: 0.43751290440559387\n",
            "Epoch 80, Loss: 0.4144546091556549\n",
            "Epoch 90, Loss: 0.393987238407135\n",
            "Epoch 100, Loss: 0.3758220672607422\n",
            "Epoch 110, Loss: 0.35964682698249817\n",
            "Epoch 120, Loss: 0.3450913429260254\n",
            "Epoch 130, Loss: 0.332291841506958\n",
            "Epoch 140, Loss: 0.32069891691207886\n",
            "Epoch 150, Loss: 0.3102697730064392\n",
            "Epoch 160, Loss: 0.3007446825504303\n",
            "Epoch 170, Loss: 0.29212242364883423\n",
            "Epoch 180, Loss: 0.2843018174171448\n",
            "Epoch 190, Loss: 0.27719470858573914\n",
            "Epoch 200, Loss: 0.27072471380233765\n",
            "Epoch 210, Loss: 0.26482513546943665\n",
            "Epoch 220, Loss: 0.2594374120235443\n",
            "Epoch 230, Loss: 0.2543940544128418\n",
            "Epoch 240, Loss: 0.24976688623428345\n",
            "Epoch 250, Loss: 0.24563421308994293\n",
            "Epoch 260, Loss: 0.24184297025203705\n",
            "Epoch 270, Loss: 0.23824280500411987\n",
            "Epoch 280, Loss: 0.23492373526096344\n",
            "Epoch 290, Loss: 0.23197855055332184\n",
            "Epoch 300, Loss: 0.22926701605319977\n",
            "Epoch 310, Loss: 0.22676892578601837\n",
            "Epoch 320, Loss: 0.22446277737617493\n",
            "Epoch 330, Loss: 0.22233682870864868\n",
            "Epoch 340, Loss: 0.22025460004806519\n",
            "Epoch 350, Loss: 0.218440443277359\n",
            "Epoch 360, Loss: 0.2166437953710556\n",
            "Epoch 370, Loss: 0.2150910347700119\n",
            "Epoch 380, Loss: 0.21365372836589813\n",
            "Epoch 390, Loss: 0.21232101321220398\n",
            "Epoch 400, Loss: 0.2109677791595459\n",
            "Epoch 410, Loss: 0.20982255041599274\n",
            "Epoch 420, Loss: 0.20876000821590424\n",
            "Epoch 430, Loss: 0.20753726363182068\n",
            "Epoch 440, Loss: 0.20662030577659607\n",
            "Epoch 450, Loss: 0.20576851069927216\n",
            "Epoch 460, Loss: 0.20497651398181915\n",
            "Epoch 470, Loss: 0.20411977171897888\n",
            "Epoch 480, Loss: 0.20343470573425293\n",
            "Epoch 490, Loss: 0.20279563963413239\n",
            "Epoch 500, Loss: 0.2022012621164322\n",
            "Epoch 510, Loss: 0.20164674520492554\n",
            "Epoch 520, Loss: 0.20113064348697662\n",
            "Epoch 530, Loss: 0.20064979791641235\n",
            "Epoch 540, Loss: 0.20020094513893127\n",
            "Epoch 550, Loss: 0.19978231191635132\n",
            "Epoch 560, Loss: 0.19939208030700684\n",
            "Epoch 570, Loss: 0.19902779161930084\n",
            "Epoch 580, Loss: 0.19868764281272888\n",
            "Epoch 590, Loss: 0.19837014377117157\n",
            "Epoch 600, Loss: 0.19807353615760803\n",
            "Epoch 610, Loss: 0.19779665768146515\n",
            "Epoch 620, Loss: 0.19753789901733398\n",
            "Epoch 630, Loss: 0.19729608297348022\n",
            "Epoch 640, Loss: 0.1970701664686203\n",
            "Epoch 650, Loss: 0.1968589425086975\n",
            "Epoch 660, Loss: 0.19666145741939545\n",
            "Epoch 670, Loss: 0.19647681713104248\n",
            "Epoch 680, Loss: 0.19630415737628937\n",
            "Epoch 690, Loss: 0.19614273309707642\n",
            "Predicting\n",
            "Calculating Accuracy.\n",
            "Predicting\n",
            "Logistic Regression train: 0.9461024956930736\n",
            "Calculating Accuracy.\n",
            "Predicting\n",
            "Logistic Regression test: 0.9458011224052829\n"
          ]
        }
      ]
    },
    {
      "cell_type": "code",
      "source": [
        "print(log_reg_predictions)\n",
        "print(type(log_reg_predictions))\n",
        "print(np.unique(log_reg_predictions))"
      ],
      "metadata": {
        "colab": {
          "base_uri": "https://localhost:8080/"
        },
        "id": "neJjumU4fzt0",
        "outputId": "8f59b817-e96e-4403-8f9c-df532e11ec50"
      },
      "execution_count": 64,
      "outputs": [
        {
          "output_type": "stream",
          "name": "stdout",
          "text": [
            "[0. 0. 0. ... 0. 0. 0.]\n",
            "<class 'numpy.ndarray'>\n",
            "[0. 1.]\n"
          ]
        }
      ]
    },
    {
      "cell_type": "code",
      "source": [
        "class SVMClassifier():\n",
        "    def __init__(self, train_x, train_y, fraction=0.1, n_samples=10000000000000):\n",
        "        # Sample a fraction of the data\n",
        "        n = min(int(len(train_x) * fraction), n_samples)\n",
        "        self.X_train = train_x.iloc[:n, :]\n",
        "        self.y_train = train_y.iloc[:n]\n",
        "        self.model = None\n",
        "    def fit(self):\n",
        "        print(\"Training.\")\n",
        "        # Use Bagging with SVM\n",
        "        self.model = BaggingClassifier(\n",
        "            estimator=SVC(C=0.1, kernel='poly', degree=5, gamma='scale'),\n",
        "            n_estimators=6,\n",
        "            random_state=42,\n",
        "            max_samples= 0.05\n",
        "        )\n",
        "        self.model.fit(self.X_train, self.y_train)\n",
        "\n",
        "    def predict(self, X_test):\n",
        "        print('Predicting.')\n",
        "        return self.model.predict(X_test).astype(float)\n",
        "\n",
        "    def calculate_accuracy(self, X, y):\n",
        "        print('Calculating Accuracy.')\n",
        "        predictions = self.predict(X)\n",
        "        accuracy = accuracy_score(y, predictions)\n",
        "        return accuracy\n",
        "SVM_model = SVMClassifier(train_x, train_y)\n",
        "SVM_model.fit()\n",
        "SVM_predictions = SVM_model.predict(SVM_model.X_train)\n",
        "print('SVM train: ', SVM_model.calculate_accuracy(SVM_model.X_train, SVM_model.y_train))\n",
        "print('SVM test: ', SVM_model.calculate_accuracy(test_x, test_y))"
      ],
      "metadata": {
        "colab": {
          "base_uri": "https://localhost:8080/"
        },
        "id": "I9OsH9fzeJ9X",
        "outputId": "c9be074f-1b2f-41f2-9ea7-b3454fe9086a"
      },
      "execution_count": null,
      "outputs": [
        {
          "output_type": "stream",
          "name": "stdout",
          "text": [
            "Training.\n",
            "Predicting.\n",
            "Calculating Accuracy.\n",
            "Predicting.\n",
            "SVM train:  0.9309198478658967\n",
            "Calculating Accuracy.\n",
            "Predicting.\n"
          ]
        }
      ]
    },
    {
      "cell_type": "code",
      "source": [
        "print(SVM_predictions)\n",
        "print(type(SVM_predictions))\n",
        "print(np.unique(SVM_predictions))"
      ],
      "metadata": {
        "id": "hsl0u3Jthbqq"
      },
      "execution_count": null,
      "outputs": []
    },
    {
      "cell_type": "code",
      "source": [
        "class NaiveBayesClassifier:\n",
        "    def __init__(self, X_train, y_train, priors=None, var_smoothing=1e-9):\n",
        "        self.model = GaussianNB(priors=priors, var_smoothing=var_smoothing)\n",
        "        self.X_train = X_train\n",
        "        self.y_train = y_train\n",
        "\n",
        "    def fit(self):\n",
        "        self.model.fit(self.X_train, self.y_train)\n",
        "\n",
        "    def predict(self, X_test):\n",
        "        return self.model.predict(X_test).astype(float)\n",
        "\n",
        "    def calculate_accuracy(self, X, y):\n",
        "        predictions = self.predict(X)\n",
        "        accuracy = accuracy_score(y, predictions)\n",
        "        return accuracy\n",
        "\n",
        "    def confusion_matrix(self, X, y):\n",
        "        predictions = self.predict(X)\n",
        "        return confusion_matrix(y, predictions)\n",
        "\n",
        "    def classification_report(self, X, y):\n",
        "        predictions = self.predict(X)\n",
        "        return classification_report(y, predictions)\n",
        "\n",
        "# Example usage\n",
        "NB_model = NaiveBayesClassifier(train_x, train_y)\n",
        "NB_model.fit()\n",
        "NB_predictions = NB_model.predict(NB_model.X_train)\n",
        "print('Naive Bayes train accuracy:', NB_model.calculate_accuracy(NB_model.X_train, NB_model.y_train))\n",
        "print('Naive Bayes test accuracy:', NB_model.calculate_accuracy(test_x, test_y))"
      ],
      "metadata": {
        "id": "NadN225Ro4F2"
      },
      "execution_count": null,
      "outputs": []
    },
    {
      "cell_type": "code",
      "source": [
        "print(NB_predictions)\n",
        "print(type(NB_predictions))\n",
        "print(np.unique(NB_predictions))"
      ],
      "metadata": {
        "id": "o0DtUP13pGQm"
      },
      "execution_count": null,
      "outputs": []
    },
    {
      "cell_type": "code",
      "source": [
        "class RandomForestModel():\n",
        "    def __init__(self, X_train, y_train, n_estimators=10, max_depth=None, random_state=42):\n",
        "        self.model = RandomForestClassifier(n_estimators=n_estimators, max_depth=max_depth, random_state=random_state, max_samples = 0.05)\n",
        "        self.X_train = X_train\n",
        "        self.y_train = y_train\n",
        "\n",
        "    def fit(self):\n",
        "        self.model.fit(self.X_train, self.y_train)\n",
        "\n",
        "    def predict(self, X_test):\n",
        "        return self.model.predict(X_test).astype(float)\n",
        "\n",
        "    def calculate_accuracy(self, X, y):\n",
        "        predictions = self.predict(X)\n",
        "        accuracy = accuracy_score(y, predictions)\n",
        "        return accuracy\n",
        "\n",
        "    def confusion_matrix(self, X, y):\n",
        "        predictions = self.predict(X)\n",
        "        return confusion_matrix(y, predictions)\n",
        "\n",
        "    def classification_report(self, X, y):\n",
        "        predictions = self.predict(X)\n",
        "        return classification_report(y, predictions)\n",
        "\n",
        "# Example usage\n",
        "RF_model = RandomForestModel(train_x, train_y)\n",
        "RF_model.fit()\n",
        "RF_predictions = RF_model.predict(RF_model.X_train)\n",
        "print('Random Forest train:', RF_model.calculate_accuracy(RF_model.X_train, RF_model.y_train))\n",
        "print('Random Forest test:', RF_model.calculate_accuracy(test_x, test_y))"
      ],
      "metadata": {
        "id": "ypQUg_R6samW"
      },
      "execution_count": null,
      "outputs": []
    },
    {
      "cell_type": "code",
      "source": [
        "print(RF_predictions)\n",
        "print(type(RF_predictions))\n",
        "print(np.unique(RF_predictions))"
      ],
      "metadata": {
        "id": "9YtaBSy9ZyUO"
      },
      "execution_count": null,
      "outputs": []
    },
    {
      "cell_type": "code",
      "source": [
        "class Adaboost():\n",
        "    def __init__(self, classes_dict, train_x, train_y):\n",
        "        self.classes_dict = classes_dict\n",
        "        self.model_order = classes_dict.keys()\n",
        "    def extract_data(): pass\n",
        "adModel = Adaboost(classes_dict={\"ANN\": ANN, \"LR\": LogisticRegressionModel, \"SVM\": SVMClassifier, \"NB\": NaiveBayesClassifier, \"RF\": RandomForestModel})"
      ],
      "metadata": {
        "id": "fkw5jbXSIpfK"
      },
      "execution_count": null,
      "outputs": []
    },
    {
      "cell_type": "code",
      "source": [],
      "metadata": {
        "id": "PK_0JVF6IZu-"
      },
      "execution_count": null,
      "outputs": []
    }
  ]
}