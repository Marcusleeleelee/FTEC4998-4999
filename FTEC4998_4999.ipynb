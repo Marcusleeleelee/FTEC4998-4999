{
  "nbformat": 4,
  "nbformat_minor": 0,
  "metadata": {
    "colab": {
      "provenance": [],
      "toc_visible": true,
      "authorship_tag": "ABX9TyOzn96qXxklAr6S8Kzz8odV",
      "include_colab_link": true
    },
    "kernelspec": {
      "name": "python3",
      "display_name": "Python 3"
    },
    "language_info": {
      "name": "python"
    }
  },
  "cells": [
    {
      "cell_type": "markdown",
      "metadata": {
        "id": "view-in-github",
        "colab_type": "text"
      },
      "source": [
        "<a href=\"https://colab.research.google.com/github/Marcusleeleelee/FTEC4998-4999/blob/main/FTEC4998_4999.ipynb\" target=\"_parent\"><img src=\"https://colab.research.google.com/assets/colab-badge.svg\" alt=\"Open In Colab\"/></a>"
      ]
    },
    {
      "cell_type": "code",
      "source": [
        "# Step 0: Import the packages - ok\n",
        "import pandas as pd\n",
        "import numpy as np\n",
        "from sklearn.linear_model import LogisticRegression\n",
        "from sklearn.neighbors import KNeighborsClassifier\n",
        "from sklearn.ensemble import RandomForestClassifier\n",
        "from sklearn.svm import SVC\n",
        "from sklearn.decomposition import PCA\n",
        "from sklearn.metrics import accuracy_score, classification_report\n",
        "from sklearn.ensemble import AdaBoostClassifier\n",
        "from sklearn.naive_bayes import GaussianNB\n",
        "from sklearn.neural_network import MLPClassifier\n",
        "import torch\n",
        "import torch.nn as nn\n",
        "import torch.optim as optim\n",
        "import torch.nn.functional as F\n",
        "from time import sleep\n",
        "from sklearn.svm import SVC\n",
        "from sklearn.pipeline import Pipeline\n",
        "from sklearn.preprocessing import StandardScaler\n",
        "from sklearn.model_selection import GridSearchCV\n",
        "from google.colab import drive\n",
        "drive.mount('/content/drive')"
      ],
      "metadata": {
        "id": "9Irism69Bo6L",
        "colab": {
          "base_uri": "https://localhost:8080/"
        },
        "outputId": "6407e8cd-0c64-4cb3-ad5b-9dc6425b684d"
      },
      "execution_count": 37,
      "outputs": [
        {
          "output_type": "stream",
          "name": "stdout",
          "text": [
            "Drive already mounted at /content/drive; to attempt to forcibly remount, call drive.mount(\"/content/drive\", force_remount=True).\n"
          ]
        }
      ]
    },
    {
      "cell_type": "code",
      "source": [
        "# Step 1: Utils - ok\n",
        "def uni_list(input): return list(set(input))\n",
        "def perform_pca(df, n_components):\n",
        "\n",
        "    # Performing PCA\n",
        "    pca = PCA(n_components=n_components)\n",
        "    principal_components = pca.fit_transform(df)\n",
        "\n",
        "    # Creating a DataFrame with the top 15 components\n",
        "    pca_df = pd.DataFrame(data=principal_components, index=df.index)\n",
        "\n",
        "    # Retaining the original column names for the new DataFrame\n",
        "    retained_columns = df.columns[:n_components]\n",
        "    pca_df.columns = retained_columns\n",
        "\n",
        "    return pca_df"
      ],
      "metadata": {
        "id": "ndu77M8kBr-h"
      },
      "execution_count": 3,
      "outputs": []
    },
    {
      "cell_type": "code",
      "source": [
        "# Step 2: Dataset\n",
        "class Dataset:\n",
        "    def __init__(self, file_path): # ok\n",
        "        self.dataset = pd.read_feather(file_path)\n",
        "        self.train_dict, self.test_dict = {}, {}\n",
        "        self.scalers = None\n",
        "        self.pca = None\n",
        "        self.label = 'loan_condition_cat'\n",
        "\n",
        "    def show(self, rows=10): # ok\n",
        "        return self.dataset.head(rows)\n",
        "\n",
        "    def get(self, type, key): # ok\n",
        "        if type == 'test': return self.test_dict[key]['x'], self.test_dict[key]['y']\n",
        "        elif type == 'train': return self.train_dict[key]['x'], self.train_dict[key]['y']\n",
        "        else: raise Exception('The type must be either \"test\" or \"train\"!')\n",
        "\n",
        "    def update(self, type, key, x, y): # ok\n",
        "        if type == 'test': self.test_dict.update({key: {'x': x, 'y': y}})\n",
        "        elif type == 'train': self.train_dict.update({key: {'x': x, 'y': y}})\n",
        "        else: raise Exception('The type must be either \"test\" or \"train\"!')\n",
        "\n",
        "    def basic_processing(self): # ok\n",
        "        temp_func_1 = lambda x: '<=2009' if str(x) in ['2007', '2008', '2009'] else (\"[2010, 2012]\" if str(x) in ['2010', '2011', '2012'] else '>=2013')\n",
        "        columns_to_delete = [\n",
        "            'id', 'issue_d', 'home_ownership_cat', 'income_category', 'income_cat', 'term_cat', 'application_type_cat',\n",
        "            'purpose_cat', 'interest_payment_cat', 'loan_condition'\n",
        "        ]\n",
        "        self.dataset.drop(columns=columns_to_delete, inplace=True)\n",
        "        self.dataset['grade'] = self.dataset['grade'].apply(temp_func_1)\n",
        "        self.dataset['final_d'] = self.dataset['final_d'].apply(lambda x: str(x)[-4:]).apply(temp_func_1)\n",
        "        self.dataset = pd.get_dummies(self.dataset, columns=['year', 'final_d', 'home_ownership', 'term', 'application_type',\n",
        "                                                             'purpose', 'interest_payments', 'grade', 'region'], dtype=int)\n",
        "\n",
        "    def train_test_split(self, percentage=0.8): # ok\n",
        "        self.dataset = self.dataset.sample(frac=1).reset_index(drop=True)\n",
        "        train_size = int(len(self.dataset) * percentage)\n",
        "        temp1 = self.dataset.iloc[:train_size].copy()\n",
        "        temp2 = self.dataset.iloc[train_size:].copy()\n",
        "\n",
        "        y_train = temp1[[self.label]]\n",
        "        x_train = temp1.drop(columns=[self.label])\n",
        "        self.update('train', 'w0', x_train, y_train)\n",
        "\n",
        "        y_test = temp2[[self.label]]\n",
        "        x_test = temp2.drop(columns=[self.label])\n",
        "        self.update('test', 'w0', x_test, y_test)\n",
        "\n",
        "    def preprocessing_train(self): # ok\n",
        "        temp_train_x, temp_train_y = self.get('train', 'w0')\n",
        "        scaler = StandardScaler()\n",
        "        temp_train_x = pd.DataFrame(scaler.fit_transform(temp_train_x), columns=temp_train_x.columns)\n",
        "        self.scalers = scaler\n",
        "        temp_train_x = perform_pca(temp_train_x, n_components=30)\n",
        "        self.update('train', 'w0', temp_train_x, temp_train_y)\n",
        "\n",
        "    def preprocessing_test(self): # Not ok\n",
        "        temp_test_x, temp_test_y = self.get('test', 'w0')\n",
        "        temp_train_x, _ = self.get('train', 'w0')\n",
        "        print(temp_train_x)\n",
        "\n",
        "        # Apply stored scalers\n",
        "        temp_test_x = pd.DataFrame(self.scalers.transform(temp_test_x), columns=temp_train_x.columns)\n",
        "\n",
        "        assert set(temp_test_x.columns) == set(temp_train_x.columns)\n",
        "        self.update('test', 'w0', temp_test_x, temp_test_y)"
      ],
      "metadata": {
        "id": "lmLx5bbgBtcq"
      },
      "execution_count": 4,
      "outputs": []
    },
    {
      "cell_type": "code",
      "source": [
        "# Calculating # ok\n",
        "data = Dataset('/content/drive/My Drive/Colab Notebooks/FTEC4998_9/loan_final313_processed.feather')\n",
        "data.basic_processing()\n",
        "data.train_test_split()\n",
        "data.preprocessing_train()"
      ],
      "metadata": {
        "id": "13kLSUwPBvO9"
      },
      "execution_count": 5,
      "outputs": []
    },
    {
      "cell_type": "code",
      "source": [
        "# Data conversion # ok\n",
        "train_x, train_y = data.get('train', 'w0')\n",
        "X_train, y_train = train_x.to_numpy(), train_y.values.ravel()\n",
        "counts = np.mean(y_train == 1) * 100\n",
        "print(counts)\n",
        "print(X_train.shape, y_train.shape)\n",
        "# Ensure y_train is binary\n",
        "assert set(y_train).issubset({0, 1}), \"Target values must be 0 or 1 for binary classification.\"\n",
        "\n",
        "# Convert to tensors and move to GPU\n",
        "device = torch.device('cuda' if torch.cuda.is_available() else 'cpu')\n",
        "X_train_tensor = torch.tensor(X_train, dtype=torch.float32).to(device)\n",
        "y_train_tensor = torch.tensor(y_train, dtype=torch.float32).unsqueeze(1).to(device)"
      ],
      "metadata": {
        "id": "EMPCAhUjB4tJ",
        "colab": {
          "base_uri": "https://localhost:8080/"
        },
        "outputId": "2a812bfe-cbb1-4b2b-b57f-5835292816dd"
      },
      "execution_count": 8,
      "outputs": [
        {
          "output_type": "stream",
          "name": "stdout",
          "text": [
            "7.616956119357152\n",
            "(709903, 30) (709903,)\n"
          ]
        }
      ]
    },
    {
      "cell_type": "code",
      "source": [
        "# Train, predict, and accuracy functions\n",
        "def train_model(model): # ok\n",
        "    model.train()\n",
        "    for epoch in range(model.epochs):\n",
        "        model.optimizer.zero_grad()\n",
        "        outputs = model(model.X_train_tensor)\n",
        "        loss = model.criterion(outputs, model.y_train_tensor)\n",
        "        loss.backward()\n",
        "        model.optimizer.step()\n",
        "        if epoch % 10 == 0:\n",
        "            print(f'Epoch {epoch}, Loss: {loss.item()}')\n",
        "\n",
        "\n",
        "def predict_model(model, X_tensor):\n",
        "    model.eval()\n",
        "    with torch.no_grad():\n",
        "        outputs = model(X_tensor).squeeze()\n",
        "        return (outputs > 0.5).float()\n",
        "        if isinstance(model, SVM): return (outputs > 0).float()  # For SVM\n",
        "        else: return (outputs > 0.5).float()  # For Logistic Regression and ANN\n",
        "\n",
        "def calculate_accuracy(model, X_tensor, y_tensor):\n",
        "    X_tensor = X_tensor.to(next(model.parameters()).device)\n",
        "    y_tensor = y_tensor.to(next(model.parameters()).device)\n",
        "    predictions = predict_model(model, X_tensor)\n",
        "\n",
        "\n",
        "    # Ensure predictions and labels are the same shape\n",
        "    predictions = predictions.squeeze()\n",
        "    y_tensor = y_tensor.squeeze()\n",
        "\n",
        "    correct = (predictions == y_tensor).sum().item()\n",
        "    accuracy = correct / y_tensor.size(0)\n",
        "    return accuracy"
      ],
      "metadata": {
        "id": "5UL36a0-Tq97"
      },
      "execution_count": 30,
      "outputs": []
    },
    {
      "cell_type": "code",
      "source": [
        "# Step 3: Model training\n",
        "\n",
        "class NaiveBayes:\n",
        "    def __init__(self, device, X_train_tensor, y_train_tensor):\n",
        "        self.classes = None\n",
        "        self.class_priors = None\n",
        "        self.feature_probs = None\n",
        "        self.device = device\n",
        "        self.X_train_tensor = X_train_tensor\n",
        "        self.y_train_tensor = y_train_tensor\n",
        "\n",
        "    def fit(self):\n",
        "        y_train_tensor = self.y_train_tensor.squeeze().long()\n",
        "        self.classes, class_counts = torch.unique(y_train_tensor, return_counts=True)\n",
        "        self.class_priors = class_counts.float() / y_train_tensor.size(0)\n",
        "        self.feature_probs = []\n",
        "        for c in self.classes:\n",
        "            X_c = self.X_train_tensor[y_train_tensor == c]\n",
        "            class_feature_prob = (X_c.sum(dim=0) + 1) / (X_c.sum() + X_c.size(1))\n",
        "            self.feature_probs.append(class_feature_prob)\n",
        "        self.feature_probs = torch.stack(self.feature_probs).to(self.device)\n",
        "\n",
        "    def predict(self, X_tensor):\n",
        "        log_probs = []\n",
        "        for i, c in enumerate(self.classes):\n",
        "            log_prior = torch.log(self.class_priors[i])\n",
        "            log_likelihood = (\n",
        "                X_tensor * torch.log(self.feature_probs[i]) +\n",
        "                (1 - X_tensor) * torch.log(1 - self.feature_probs[i])\n",
        "            )\n",
        "            log_probs.append(log_prior + log_likelihood.sum(dim=1))\n",
        "        log_probs = torch.stack(log_probs).T\n",
        "        return self.classes[log_probs.argmax(dim=1)].cpu().numpy().astype(float)\n",
        "\n",
        "# Initialize PyTorch models and move to GPU\n",
        "svm_model = SVM(X_train_tensor, y_train_tensor).to(device)\n",
        "nb_model = NaiveBayes(device, X_train_tensor, y_train_tensor)\n",
        "print(log_reg_model.criterion)\n",
        "print(svm_model.criterion)"
      ],
      "metadata": {
        "id": "KQxTOBOkHlsL",
        "colab": {
          "base_uri": "https://localhost:8080/"
        },
        "outputId": "f662d28f-1673-49c2-e881-d888ebaa5702"
      },
      "execution_count": null,
      "outputs": [
        {
          "output_type": "stream",
          "name": "stdout",
          "text": [
            "BCELoss()\n",
            "BCELoss()\n",
            "HingeEmbeddingLoss()\n"
          ]
        }
      ]
    },
    {
      "cell_type": "code",
      "source": [
        "# Train ANN\n",
        "# MLP model\n",
        "class ANN(nn.Module):\n",
        "    def __init__(self, X_train_tensor, y_train_tensor, lr=0.001):\n",
        "        super(ANN, self).__init__()\n",
        "        self.input_dim = X_train_tensor.shape[1]\n",
        "        self.net = nn.Sequential(\n",
        "            nn.Linear(self.input_dim, 128),\n",
        "            nn.BatchNorm1d(128),\n",
        "            nn.LeakyReLU(0.2),\n",
        "            nn.Dropout(0.3),\n",
        "            nn.Linear(128, 64),\n",
        "            nn.BatchNorm1d(64),\n",
        "            nn.LeakyReLU(0.2),\n",
        "            nn.Dropout(0.3),\n",
        "            nn.Linear(64, 32),\n",
        "            nn.BatchNorm1d(32),\n",
        "            nn.LeakyReLU(0.2),\n",
        "            nn.Dropout(0.3),\n",
        "            nn.Linear(32, 1),\n",
        "            nn.Sigmoid()\n",
        "        )\n",
        "        self.criterion = nn.BCELoss()\n",
        "        self.optimizer = optim.Adam(self.parameters(), lr=lr)\n",
        "        self.epochs = 100\n",
        "        self.y_train_tensor = y_train_tensor\n",
        "        self.X_train_tensor = X_train_tensor\n",
        "\n",
        "    def forward(self, x):\n",
        "        return self.net(x)\n",
        "ann_model = ANN(X_train_tensor, y_train_tensor).to(device)\n",
        "train_model(ann_model)\n",
        "ann_predictions = predict_model(ann_model, X_train_tensor).cpu().numpy()\n",
        "print('ANN:', calculate_accuracy(ann_model, ann_model.X_train_tensor, ann_model.y_train_tensor))"
      ],
      "metadata": {
        "collapsed": true,
        "id": "sblUgiO6S2PU",
        "outputId": "4bb33180-b789-48d1-ad20-8c9963f18961",
        "colab": {
          "base_uri": "https://localhost:8080/"
        }
      },
      "execution_count": 31,
      "outputs": [
        {
          "output_type": "stream",
          "name": "stdout",
          "text": [
            "Epoch 0, Loss: 0.6712297797203064\n",
            "Epoch 10, Loss: 0.567823052406311\n",
            "Epoch 20, Loss: 0.5015900135040283\n",
            "Epoch 30, Loss: 0.4576817750930786\n",
            "Epoch 40, Loss: 0.4214310646057129\n",
            "Epoch 50, Loss: 0.38850027322769165\n",
            "Epoch 60, Loss: 0.35972169041633606\n",
            "Epoch 70, Loss: 0.33442872762680054\n",
            "Epoch 80, Loss: 0.3118170201778412\n",
            "Epoch 90, Loss: 0.29266512393951416\n",
            "ANN: 0.9464997330621225\n"
          ]
        }
      ]
    },
    {
      "cell_type": "code",
      "source": [
        "print(ann_predictions)\n",
        "print(type(ann_predictions))\n",
        "print(np.unique(ann_predictions))"
      ],
      "metadata": {
        "id": "uF7ablcRf21U",
        "outputId": "dcf62119-6a34-4072-9fa6-4740a13b4a59",
        "colab": {
          "base_uri": "https://localhost:8080/"
        }
      },
      "execution_count": 42,
      "outputs": [
        {
          "output_type": "stream",
          "name": "stdout",
          "text": [
            "[0. 0. 0. ... 0. 0. 0.]\n",
            "<class 'numpy.ndarray'>\n",
            "[0. 1.]\n"
          ]
        }
      ]
    },
    {
      "cell_type": "code",
      "source": [
        "# Logistic Regression as a neural network\n",
        "class LogisticRegressionModel(nn.Module):\n",
        "    def __init__(self, X_train_tensor, y_train_tensor, lr=0.01):\n",
        "        super(LogisticRegressionModel, self).__init__()\n",
        "        self.input_dim = X_train_tensor.shape[1]\n",
        "        self.net = nn.Sequential(\n",
        "            nn.Linear(self.input_dim, 1),\n",
        "            nn.Sigmoid()\n",
        "        )\n",
        "        self.criterion = nn.BCELoss()\n",
        "        self.optimizer = optim.Adam(self.parameters(), lr=lr)\n",
        "        self.epochs = 1200\n",
        "        self.y_train_tensor = y_train_tensor\n",
        "        self.X_train_tensor = X_train_tensor\n",
        "\n",
        "    def forward(self, x):\n",
        "        return self.net(x)\n",
        "log_reg = LogisticRegressionModel(X_train_tensor, y_train_tensor).to(device)\n",
        "train_model(log_reg)\n",
        "log_reg_predictions = predict_model(log_reg, X_train_tensor).cpu().numpy()\n",
        "print('Logistic Regression:', calculate_accuracy(log_reg, log_reg.X_train_tensor, log_reg.y_train_tensor))"
      ],
      "metadata": {
        "collapsed": true,
        "id": "ZuSNLiKoWoyE",
        "outputId": "1b38c5af-fd83-44bb-fff6-4c4008ae5ba4",
        "colab": {
          "base_uri": "https://localhost:8080/"
        }
      },
      "execution_count": 36,
      "outputs": [
        {
          "output_type": "stream",
          "name": "stdout",
          "text": [
            "Epoch 0, Loss: 0.7840869426727295\n",
            "Epoch 10, Loss: 0.6773155927658081\n",
            "Epoch 20, Loss: 0.6177142262458801\n",
            "Epoch 30, Loss: 0.5693557262420654\n",
            "Epoch 40, Loss: 0.5292746424674988\n",
            "Epoch 50, Loss: 0.49515870213508606\n",
            "Epoch 60, Loss: 0.4653887450695038\n",
            "Epoch 70, Loss: 0.4393005669116974\n",
            "Epoch 80, Loss: 0.41650691628456116\n",
            "Epoch 90, Loss: 0.3959510624408722\n",
            "Epoch 100, Loss: 0.37775304913520813\n",
            "Epoch 110, Loss: 0.36138424277305603\n",
            "Epoch 120, Loss: 0.34694811701774597\n",
            "Epoch 130, Loss: 0.33390283584594727\n",
            "Epoch 140, Loss: 0.32222434878349304\n",
            "Epoch 150, Loss: 0.31162574887275696\n",
            "Epoch 160, Loss: 0.302066832780838\n",
            "Epoch 170, Loss: 0.29342836141586304\n",
            "Epoch 180, Loss: 0.2856084108352661\n",
            "Epoch 190, Loss: 0.27851423621177673\n",
            "Epoch 200, Loss: 0.2720675468444824\n",
            "Epoch 210, Loss: 0.26619964838027954\n",
            "Epoch 220, Loss: 0.2608502209186554\n",
            "Epoch 230, Loss: 0.2559664845466614\n",
            "Epoch 240, Loss: 0.2515016496181488\n",
            "Epoch 250, Loss: 0.24741584062576294\n",
            "Epoch 260, Loss: 0.24367083609104156\n",
            "Epoch 270, Loss: 0.24023665487766266\n",
            "Epoch 280, Loss: 0.2370835393667221\n",
            "Epoch 290, Loss: 0.2339482456445694\n",
            "Epoch 300, Loss: 0.23128226399421692\n",
            "Epoch 310, Loss: 0.2288280427455902\n",
            "Epoch 320, Loss: 0.22644765675067902\n",
            "Epoch 330, Loss: 0.22424419224262238\n",
            "Epoch 340, Loss: 0.222317636013031\n",
            "Epoch 350, Loss: 0.22054067254066467\n",
            "Epoch 360, Loss: 0.21889753639698029\n",
            "Epoch 370, Loss: 0.21737860143184662\n",
            "Epoch 380, Loss: 0.21597251296043396\n",
            "Epoch 390, Loss: 0.21455399692058563\n",
            "Epoch 400, Loss: 0.21334858238697052\n",
            "Epoch 410, Loss: 0.21223220229148865\n",
            "Epoch 420, Loss: 0.21119703352451324\n",
            "Epoch 430, Loss: 0.2102368175983429\n",
            "Epoch 440, Loss: 0.2093457728624344\n",
            "Epoch 450, Loss: 0.20851856470108032\n",
            "Epoch 460, Loss: 0.2075124979019165\n",
            "Epoch 470, Loss: 0.20679843425750732\n",
            "Epoch 480, Loss: 0.20613379776477814\n",
            "Epoch 490, Loss: 0.20551636815071106\n",
            "Epoch 500, Loss: 0.204941526055336\n",
            "Epoch 510, Loss: 0.20428688824176788\n",
            "Epoch 520, Loss: 0.20367135107517242\n",
            "Epoch 530, Loss: 0.20320697128772736\n",
            "Epoch 540, Loss: 0.20277519524097443\n",
            "Epoch 550, Loss: 0.20237237215042114\n",
            "Epoch 560, Loss: 0.2019975185394287\n",
            "Epoch 570, Loss: 0.20152750611305237\n",
            "Epoch 580, Loss: 0.2012016475200653\n",
            "Epoch 590, Loss: 0.20089778304100037\n",
            "Epoch 600, Loss: 0.20061323046684265\n",
            "Epoch 610, Loss: 0.20034898817539215\n",
            "Epoch 620, Loss: 0.20010222494602203\n",
            "Epoch 630, Loss: 0.199870765209198\n",
            "Epoch 640, Loss: 0.1996559500694275\n",
            "Epoch 650, Loss: 0.19945558905601501\n",
            "Epoch 660, Loss: 0.19926832616329193\n",
            "Epoch 670, Loss: 0.1990935355424881\n",
            "Epoch 680, Loss: 0.1989305019378662\n",
            "Epoch 690, Loss: 0.19877839088439941\n",
            "Epoch 700, Loss: 0.19863606989383698\n",
            "Epoch 710, Loss: 0.19850392639636993\n",
            "Epoch 720, Loss: 0.19838005304336548\n",
            "Epoch 730, Loss: 0.1982647031545639\n",
            "Epoch 740, Loss: 0.19815681874752045\n",
            "Epoch 750, Loss: 0.19805635511875153\n",
            "Epoch 760, Loss: 0.19796237349510193\n",
            "Epoch 770, Loss: 0.1978749930858612\n",
            "Epoch 780, Loss: 0.19779330492019653\n",
            "Epoch 790, Loss: 0.1977170705795288\n",
            "Epoch 800, Loss: 0.1976461410522461\n",
            "Epoch 810, Loss: 0.1975797712802887\n",
            "Epoch 820, Loss: 0.1975180059671402\n",
            "Epoch 830, Loss: 0.1974603235721588\n",
            "Epoch 840, Loss: 0.1974065899848938\n",
            "Epoch 850, Loss: 0.1973566710948944\n",
            "Epoch 860, Loss: 0.19731001555919647\n",
            "Epoch 870, Loss: 0.19726650416851044\n",
            "Epoch 880, Loss: 0.19722604751586914\n",
            "Epoch 890, Loss: 0.1971883326768875\n",
            "Epoch 900, Loss: 0.1971532702445984\n",
            "Epoch 910, Loss: 0.1971205770969391\n",
            "Epoch 920, Loss: 0.19709022343158722\n",
            "Epoch 930, Loss: 0.1970619410276413\n",
            "Epoch 940, Loss: 0.19703564047813416\n",
            "Epoch 950, Loss: 0.19701115787029266\n",
            "Epoch 960, Loss: 0.19698844850063324\n",
            "Epoch 970, Loss: 0.1969672441482544\n",
            "Epoch 980, Loss: 0.1969476342201233\n",
            "Epoch 990, Loss: 0.19692941009998322\n",
            "Epoch 1000, Loss: 0.196912482380867\n",
            "Epoch 1010, Loss: 0.19689679145812988\n",
            "Epoch 1020, Loss: 0.1968822479248047\n",
            "Epoch 1030, Loss: 0.19686874747276306\n",
            "Epoch 1040, Loss: 0.19685617089271545\n",
            "Epoch 1050, Loss: 0.19684456288814545\n",
            "Epoch 1060, Loss: 0.19683381915092468\n",
            "Epoch 1070, Loss: 0.1968238800764084\n",
            "Epoch 1080, Loss: 0.1968146711587906\n",
            "Epoch 1090, Loss: 0.19680611789226532\n",
            "Epoch 1100, Loss: 0.19679823517799377\n",
            "Epoch 1110, Loss: 0.1967909038066864\n",
            "Epoch 1120, Loss: 0.19678419828414917\n",
            "Epoch 1130, Loss: 0.19677795469760895\n",
            "Epoch 1140, Loss: 0.19677221775054932\n",
            "Epoch 1150, Loss: 0.1967669129371643\n",
            "Epoch 1160, Loss: 0.19676202535629272\n",
            "Epoch 1170, Loss: 0.19675754010677338\n",
            "Epoch 1180, Loss: 0.1967533826828003\n",
            "Epoch 1190, Loss: 0.19674956798553467\n",
            "Logistic Regression: 0.9452277282952741\n"
          ]
        }
      ]
    },
    {
      "cell_type": "code",
      "source": [
        "print(log_reg_predictions)\n",
        "print(type(log_reg_predictions))\n",
        "print(np.unique(log_reg_predictions))"
      ],
      "metadata": {
        "id": "neJjumU4fzt0",
        "outputId": "a7d6b610-aecd-4c6f-f122-de0be03e45d6",
        "colab": {
          "base_uri": "https://localhost:8080/"
        }
      },
      "execution_count": 41,
      "outputs": [
        {
          "output_type": "stream",
          "name": "stdout",
          "text": [
            "[0. 0. 0. ... 0. 0. 0.]\n",
            "<class 'numpy.ndarray'>\n",
            "[0. 1.]\n"
          ]
        }
      ]
    },
    {
      "cell_type": "code",
      "source": [
        "class SVMClassifier():\n",
        "    def __init__(self, train_x, train_y):\n",
        "        self.pipeline = Pipeline([\n",
        "            ('scaler', StandardScaler()),\n",
        "            ('svc', SVC())\n",
        "        ])\n",
        "\n",
        "        self.param_grid = {\n",
        "            'svc__C': [0.1, 1, 10, 100],\n",
        "            'svc__kernel': ['linear', 'poly', 'rbf', 'sigmoid'],\n",
        "            'svc__degree': [2, 3, 4],\n",
        "            'svc__gamma': ['scale', 'auto'],\n",
        "            'svc__coef0': [0.0, 0.1, 0.5, 1.0],\n",
        "            'svc__class_weight': [None, 'balanced']\n",
        "        }\n",
        "        self.X_train = X_train\n",
        "        self.y_train = y_train\n",
        "        self.grid_search = None\n",
        "\n",
        "    def fit(self, cv=5):\n",
        "        self.grid_search = GridSearchCV(self.pipeline, self.param_grid, cv=cv, verbose=1, n_jobs=-1)\n",
        "        self.grid_search.fit(self.X_train, self.y_train)\n",
        "        print(\"Best Parameters:\", self.grid_search.best_params_)\n",
        "\n",
        "    def predict(self, X_test):\n",
        "        return self.grid_search.best_estimator_.predict(X_test)\n",
        "\n",
        "    def calculate_accuracy(self, X, y):\n",
        "        predictions = self.predict(X)\n",
        "        accuracy = accuracy_score(y, predictions)\n",
        "        return accuracy\n",
        "SVM_model = SVMClassifier(train_x, train_y)\n",
        "SVM_model.fit()\n",
        "SVM_predictions = SVM_model.predict(SVM_model.X_train, SVM_model.y_train)\n",
        "print('SVM: ', SVM_model.calculate_accuracy(SVM_model.X_train, SVM_model.y_train))"
      ],
      "metadata": {
        "id": "I9OsH9fzeJ9X",
        "outputId": "25c86293-8fa5-4017-f298-2643b23456d5",
        "colab": {
          "base_uri": "https://localhost:8080/"
        }
      },
      "execution_count": null,
      "outputs": [
        {
          "output_type": "stream",
          "name": "stdout",
          "text": [
            "Fitting 5 folds for each of 768 candidates, totalling 3840 fits\n"
          ]
        }
      ]
    },
    {
      "cell_type": "code",
      "source": [
        "print(SVM_predictions)\n",
        "print(type(SVM_predictions))\n",
        "print(np.unique(SVM_predictions))"
      ],
      "metadata": {
        "id": "hsl0u3Jthbqq"
      },
      "execution_count": null,
      "outputs": []
    },
    {
      "cell_type": "code",
      "source": [],
      "metadata": {
        "id": "NadN225Ro4F2"
      },
      "execution_count": null,
      "outputs": []
    },
    {
      "cell_type": "code",
      "source": [
        "# Predict with PyTorch models and move predictions to CPU\n",
        "svm_predictions = predict_model(svm_model, X_train_tensor).cpu().numpy()\n",
        "nb_predictions = nb_model.predict(nb_model.X_train_tensor)"
      ],
      "metadata": {
        "id": "7xY6uPCbr9ru"
      },
      "execution_count": null,
      "outputs": []
    },
    {
      "cell_type": "code",
      "source": [
        "# Model Accuracy:"
      ],
      "metadata": {
        "id": "o0DtUP13pGQm"
      },
      "execution_count": null,
      "outputs": []
    },
    {
      "cell_type": "code",
      "source": [
        "# Collect predictions for stacking\n",
        "predictions = {\n",
        "    \"log_reg\": log_reg_predictions,\n",
        "    \"ANN\": ann_predictions,\n",
        "    'svm':svm_predictions,\n",
        "    'nb':nb_predictions,\n",
        "}"
      ],
      "metadata": {
        "id": "ypQUg_R6samW"
      },
      "execution_count": null,
      "outputs": []
    },
    {
      "cell_type": "code",
      "source": [
        "print('Log_reg:', calculate_accuracy(log_reg_model, log_reg_model.X_train_tensor, log_reg_model.y_train_tensor))"
      ],
      "metadata": {
        "id": "8Qi2SnaBr13j",
        "outputId": "0ad8efc2-dfdc-4a68-a7c7-d9dae7c66df2",
        "colab": {
          "base_uri": "https://localhost:8080/"
        }
      },
      "execution_count": null,
      "outputs": [
        {
          "output_type": "stream",
          "name": "stdout",
          "text": [
            "Log_reg: 0.594665750109522\n"
          ]
        }
      ]
    },
    {
      "cell_type": "code",
      "source": [
        "print('SVM:', calculate_accuracy(svm_model, svm_model.X_train_tensor, svm_model.y_train_tensor))"
      ],
      "metadata": {
        "id": "tRA5tKbwtH1c",
        "outputId": "cd224aa2-6c9c-40a8-f5fd-1ec1ba4b6f81",
        "colab": {
          "base_uri": "https://localhost:8080/"
        }
      },
      "execution_count": null,
      "outputs": [
        {
          "output_type": "stream",
          "name": "stdout",
          "text": [
            "SVM: 0.043458049902592326\n"
          ]
        }
      ]
    },
    {
      "cell_type": "code",
      "source": [
        "print('NB:', calculate_accuracy(nb_model, nb_model.X_train_tensor, nb_model.y_train_tensor))"
      ],
      "metadata": {
        "id": "WVVJvrBWtONM",
        "outputId": "bebbe99b-4b93-434d-f5f8-c1bd487702f1",
        "colab": {
          "base_uri": "https://localhost:8080/",
          "height": 298
        }
      },
      "execution_count": null,
      "outputs": [
        {
          "output_type": "error",
          "ename": "TypeError",
          "evalue": "'NoneType' object is not iterable",
          "traceback": [
            "\u001b[0;31m---------------------------------------------------------------------------\u001b[0m",
            "\u001b[0;31mTypeError\u001b[0m                                 Traceback (most recent call last)",
            "\u001b[0;32m<ipython-input-37-95500323c67e>\u001b[0m in \u001b[0;36m<cell line: 1>\u001b[0;34m()\u001b[0m\n\u001b[0;32m----> 1\u001b[0;31m \u001b[0mprint\u001b[0m\u001b[0;34m(\u001b[0m\u001b[0;34m'NB:'\u001b[0m\u001b[0;34m,\u001b[0m \u001b[0mcalculate_accuracy\u001b[0m\u001b[0;34m(\u001b[0m\u001b[0mnb_model\u001b[0m\u001b[0;34m,\u001b[0m \u001b[0mnb_model\u001b[0m\u001b[0;34m.\u001b[0m\u001b[0mX_train_tensor\u001b[0m\u001b[0;34m,\u001b[0m \u001b[0mnb_model\u001b[0m\u001b[0;34m.\u001b[0m\u001b[0my_train_tensor\u001b[0m\u001b[0;34m)\u001b[0m\u001b[0;34m)\u001b[0m\u001b[0;34m\u001b[0m\u001b[0;34m\u001b[0m\u001b[0m\n\u001b[0m",
            "\u001b[0;32m<ipython-input-36-a943f26dbe9e>\u001b[0m in \u001b[0;36mcalculate_accuracy\u001b[0;34m(model, X_tensor, y_tensor)\u001b[0m\n\u001b[1;32m    114\u001b[0m         \u001b[0mX_tensor\u001b[0m \u001b[0;34m=\u001b[0m \u001b[0mX_tensor\u001b[0m\u001b[0;34m.\u001b[0m\u001b[0mto\u001b[0m\u001b[0;34m(\u001b[0m\u001b[0mmodel\u001b[0m\u001b[0;34m.\u001b[0m\u001b[0mdevice\u001b[0m\u001b[0;34m)\u001b[0m\u001b[0;34m\u001b[0m\u001b[0;34m\u001b[0m\u001b[0m\n\u001b[1;32m    115\u001b[0m         \u001b[0my_tensor\u001b[0m \u001b[0;34m=\u001b[0m \u001b[0my_tensor\u001b[0m\u001b[0;34m.\u001b[0m\u001b[0mto\u001b[0m\u001b[0;34m(\u001b[0m\u001b[0mmodel\u001b[0m\u001b[0;34m.\u001b[0m\u001b[0mdevice\u001b[0m\u001b[0;34m)\u001b[0m\u001b[0;34m.\u001b[0m\u001b[0msqueeze\u001b[0m\u001b[0;34m(\u001b[0m\u001b[0;34m)\u001b[0m\u001b[0;34m\u001b[0m\u001b[0;34m\u001b[0m\u001b[0m\n\u001b[0;32m--> 116\u001b[0;31m         \u001b[0mpredictions\u001b[0m \u001b[0;34m=\u001b[0m \u001b[0mmodel\u001b[0m\u001b[0;34m.\u001b[0m\u001b[0mpredict\u001b[0m\u001b[0;34m(\u001b[0m\u001b[0mX_tensor\u001b[0m\u001b[0;34m)\u001b[0m\u001b[0;34m\u001b[0m\u001b[0;34m\u001b[0m\u001b[0m\n\u001b[0m\u001b[1;32m    117\u001b[0m     \u001b[0;32melse\u001b[0m\u001b[0;34m:\u001b[0m\u001b[0;34m\u001b[0m\u001b[0;34m\u001b[0m\u001b[0m\n\u001b[1;32m    118\u001b[0m         \u001b[0mX_tensor\u001b[0m \u001b[0;34m=\u001b[0m \u001b[0mX_tensor\u001b[0m\u001b[0;34m.\u001b[0m\u001b[0mto\u001b[0m\u001b[0;34m(\u001b[0m\u001b[0mnext\u001b[0m\u001b[0;34m(\u001b[0m\u001b[0mmodel\u001b[0m\u001b[0;34m.\u001b[0m\u001b[0mparameters\u001b[0m\u001b[0;34m(\u001b[0m\u001b[0;34m)\u001b[0m\u001b[0;34m)\u001b[0m\u001b[0;34m.\u001b[0m\u001b[0mdevice\u001b[0m\u001b[0;34m)\u001b[0m\u001b[0;34m\u001b[0m\u001b[0;34m\u001b[0m\u001b[0m\n",
            "\u001b[0;32m<ipython-input-36-a943f26dbe9e>\u001b[0m in \u001b[0;36mpredict\u001b[0;34m(self, X_tensor)\u001b[0m\n\u001b[1;32m     82\u001b[0m     \u001b[0;32mdef\u001b[0m \u001b[0mpredict\u001b[0m\u001b[0;34m(\u001b[0m\u001b[0mself\u001b[0m\u001b[0;34m,\u001b[0m \u001b[0mX_tensor\u001b[0m\u001b[0;34m)\u001b[0m\u001b[0;34m:\u001b[0m\u001b[0;34m\u001b[0m\u001b[0;34m\u001b[0m\u001b[0m\n\u001b[1;32m     83\u001b[0m         \u001b[0mlog_probs\u001b[0m \u001b[0;34m=\u001b[0m \u001b[0;34m[\u001b[0m\u001b[0;34m]\u001b[0m\u001b[0;34m\u001b[0m\u001b[0;34m\u001b[0m\u001b[0m\n\u001b[0;32m---> 84\u001b[0;31m         \u001b[0;32mfor\u001b[0m \u001b[0mi\u001b[0m\u001b[0;34m,\u001b[0m \u001b[0mc\u001b[0m \u001b[0;32min\u001b[0m \u001b[0menumerate\u001b[0m\u001b[0;34m(\u001b[0m\u001b[0mself\u001b[0m\u001b[0;34m.\u001b[0m\u001b[0mclasses\u001b[0m\u001b[0;34m)\u001b[0m\u001b[0;34m:\u001b[0m\u001b[0;34m\u001b[0m\u001b[0;34m\u001b[0m\u001b[0m\n\u001b[0m\u001b[1;32m     85\u001b[0m             \u001b[0mlog_prior\u001b[0m \u001b[0;34m=\u001b[0m \u001b[0mtorch\u001b[0m\u001b[0;34m.\u001b[0m\u001b[0mlog\u001b[0m\u001b[0;34m(\u001b[0m\u001b[0mself\u001b[0m\u001b[0;34m.\u001b[0m\u001b[0mclass_priors\u001b[0m\u001b[0;34m[\u001b[0m\u001b[0mi\u001b[0m\u001b[0;34m]\u001b[0m\u001b[0;34m)\u001b[0m\u001b[0;34m\u001b[0m\u001b[0;34m\u001b[0m\u001b[0m\n\u001b[1;32m     86\u001b[0m             log_likelihood = (\n",
            "\u001b[0;31mTypeError\u001b[0m: 'NoneType' object is not iterable"
          ]
        }
      ]
    },
    {
      "cell_type": "code",
      "source": [
        "# Stack predictions as features for AdaBoost\n",
        "stacked_features = np.column_stack(list(predictions.values()))\n",
        "\n",
        "# Initialize and train AdaBoost\n",
        "ada_boost = AdaBoostClassifier(n_estimators=30, random_state=29)\n",
        "ada_boost.fit(stacked_features, y_train)\n",
        "\n",
        "# Evaluate train\n",
        "stacked_accuracy = ada_boost.score(stacked_features, y_train)\n",
        "print(\"Stacked model accuracy:\", stacked_accuracy)"
      ],
      "metadata": {
        "id": "9YtaBSy9ZyUO"
      },
      "execution_count": null,
      "outputs": []
    },
    {
      "cell_type": "code",
      "source": [],
      "metadata": {
        "id": "fkw5jbXSIpfK"
      },
      "execution_count": null,
      "outputs": []
    },
    {
      "cell_type": "code",
      "source": [],
      "metadata": {
        "id": "PK_0JVF6IZu-"
      },
      "execution_count": null,
      "outputs": []
    }
  ]
}