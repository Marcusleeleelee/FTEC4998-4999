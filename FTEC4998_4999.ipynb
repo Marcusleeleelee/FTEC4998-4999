{
  "nbformat": 4,
  "nbformat_minor": 0,
  "metadata": {
    "colab": {
      "provenance": [],
      "toc_visible": true,
      "authorship_tag": "ABX9TyNO8kh1WO2a3dmEMhgyZl2G",
      "include_colab_link": true
    },
    "kernelspec": {
      "name": "python3",
      "display_name": "Python 3"
    },
    "language_info": {
      "name": "python"
    }
  },
  "cells": [
    {
      "cell_type": "markdown",
      "metadata": {
        "id": "view-in-github",
        "colab_type": "text"
      },
      "source": [
        "<a href=\"https://colab.research.google.com/github/Marcusleeleelee/FTEC4998-4999/blob/main/FTEC4998_4999.ipynb\" target=\"_parent\"><img src=\"https://colab.research.google.com/assets/colab-badge.svg\" alt=\"Open In Colab\"/></a>"
      ]
    },
    {
      "cell_type": "code",
      "source": [
        "# Step 0: Import the packages - ok\n",
        "import pandas as pd\n",
        "import numpy as np\n",
        "from sklearn.linear_model import LogisticRegression\n",
        "from sklearn.neighbors import KNeighborsClassifier\n",
        "from sklearn.ensemble import RandomForestClassifier\n",
        "from sklearn.svm import SVC\n",
        "from sklearn.decomposition import PCA\n",
        "from sklearn.model_selection import train_test_split\n",
        "from sklearn.metrics import accuracy_score, classification_report\n",
        "from sklearn.ensemble import AdaBoostClassifier\n",
        "from sklearn.naive_bayes import GaussianNB\n",
        "from sklearn.neural_network import MLPClassifier\n",
        "import torch\n",
        "import torch.nn as nn\n",
        "import torch.optim as optim\n",
        "import torch.nn.functional as F\n",
        "from time import sleep\n",
        "from sklearn.svm import SVC\n",
        "from sklearn.pipeline import Pipeline\n",
        "from sklearn.preprocessing import StandardScaler\n",
        "from sklearn.model_selection import GridSearchCV\n",
        "from google.colab import drive\n",
        "from tqdm import tqdm\n",
        "drive.mount('/content/drive')"
      ],
      "metadata": {
        "id": "9Irism69Bo6L",
        "colab": {
          "base_uri": "https://localhost:8080/"
        },
        "outputId": "117ce0fd-64b2-4bb5-f4da-e8bdafc56637"
      },
      "execution_count": 61,
      "outputs": [
        {
          "output_type": "stream",
          "name": "stdout",
          "text": [
            "Drive already mounted at /content/drive; to attempt to forcibly remount, call drive.mount(\"/content/drive\", force_remount=True).\n"
          ]
        }
      ]
    },
    {
      "cell_type": "code",
      "source": [
        "# Step 1: Utils - ok\n",
        "def uni_list(input): return list(set(input))\n",
        "def perform_pca(df, n_components):\n",
        "\n",
        "    # Performing PCA\n",
        "    pca = PCA(n_components=n_components)\n",
        "    principal_components = pca.fit_transform(df)\n",
        "\n",
        "    # Creating a DataFrame with the top 15 components\n",
        "    pca_df = pd.DataFrame(data=principal_components, index=df.index)\n",
        "\n",
        "    # Retaining the original column names for the new DataFrame\n",
        "    retained_columns = df.columns[:n_components]\n",
        "    pca_df.columns = retained_columns\n",
        "\n",
        "    return pca_df"
      ],
      "metadata": {
        "id": "ndu77M8kBr-h"
      },
      "execution_count": 50,
      "outputs": []
    },
    {
      "cell_type": "code",
      "source": [
        "class Dataset():\n",
        "    def __init__(self, file_path):\n",
        "        self.dataset = pd.read_feather(file_path)\n",
        "        self.X_train, self.y_train = None, None\n",
        "        self.X_test, self.y_test = None, None\n",
        "        self.scalers = None\n",
        "        self.pca = None\n",
        "        self.label = 'loan_condition_cat'\n",
        "\n",
        "    def show(self, rows=10):\n",
        "        return self.dataset.head(rows)\n",
        "\n",
        "    def basic_processing(self):\n",
        "        temp_func_1 = lambda x: '<=2009' if str(x) in ['2007', '2008', '2009'] else (\"[2010, 2012]\" if str(x) in ['2010', '2011', '2012'] else '>=2013')\n",
        "        columns_to_delete = [\n",
        "            'id', 'issue_d', 'home_ownership_cat', 'income_category', 'income_cat', 'term_cat', 'application_type_cat',\n",
        "            'purpose_cat', 'interest_payment_cat', 'loan_condition'\n",
        "        ]\n",
        "        self.dataset.drop(columns=columns_to_delete, inplace=True)\n",
        "        self.dataset['grade'] = self.dataset['grade'].apply(temp_func_1)\n",
        "        self.dataset['final_d'] = self.dataset['final_d'].apply(lambda x: str(x)[-4:]).apply(temp_func_1)\n",
        "        self.dataset = pd.get_dummies(self.dataset, columns=['year', 'final_d', 'home_ownership', 'term', 'application_type',\n",
        "                                                             'purpose', 'interest_payments', 'grade', 'region'], dtype=int)\n",
        "\n",
        "    def train_test_split(self, test_size=0.2, random_state=42):\n",
        "        X = self.dataset.drop(columns=[self.label])\n",
        "        y = self.dataset[self.label]\n",
        "        self.X_train, self.X_test, self.y_train, self.y_test = train_test_split(X, y, test_size=test_size, random_state=random_state)\n",
        "\n",
        "    def preprocessing_train(self):\n",
        "        scaler = StandardScaler()\n",
        "        self.X_train = pd.DataFrame(scaler.fit_transform(self.X_train), columns=self.X_train.columns)\n",
        "        self.scalers = scaler\n",
        "\n",
        "        # Perform PCA\n",
        "        self.pca = PCA(n_components=30)\n",
        "        self.X_train = pd.DataFrame(self.pca.fit_transform(self.X_train))\n",
        "\n",
        "    def preprocessing_test(self):\n",
        "        # Apply stored scalers\n",
        "        self.X_test = pd.DataFrame(self.scalers.transform(self.X_test), columns=self.X_test.columns)\n",
        "\n",
        "        # Apply PCA\n",
        "        self.X_test = pd.DataFrame(self.pca.transform(self.X_test))"
      ],
      "metadata": {
        "id": "lmLx5bbgBtcq"
      },
      "execution_count": 73,
      "outputs": []
    },
    {
      "cell_type": "code",
      "source": [
        "# Calculating # ok\n",
        "data = Dataset('/content/drive/My Drive/Colab Notebooks/FTEC4998_9/loan_final313_processed.feather')\n",
        "data.basic_processing()\n",
        "data.train_test_split()\n",
        "data.preprocessing_train()\n",
        "data.preprocessing_test()"
      ],
      "metadata": {
        "id": "13kLSUwPBvO9"
      },
      "execution_count": 74,
      "outputs": []
    },
    {
      "cell_type": "code",
      "source": [
        "# Data conversion # ok\n",
        "train_x, train_y = data.X_train, data.y_train\n",
        "test_x, test_y = data.X_test, data.y_test\n",
        "X_train, y_train = train_x.to_numpy(), train_y.values.ravel()\n",
        "X_test, y_test = test_x.to_numpy(), test_y.values.ravel()\n",
        "counts = np.mean(y_train == 1) * 100\n",
        "print(counts)\n",
        "print(X_train.shape, y_train.shape)\n",
        "print(X_test.shape, y_test.shape)\n",
        "# Ensure y_train is binary\n",
        "assert set(y_train).issubset({0, 1}), \"Target values must be 0 or 1 for binary classification.\"\n",
        "\n",
        "# Convert to tensors and move to GPU\n",
        "device = torch.device('cuda' if torch.cuda.is_available() else 'cpu')\n",
        "X_train_tensor = torch.tensor(X_train, dtype=torch.float32).to(device)\n",
        "y_train_tensor = torch.tensor(y_train, dtype=torch.float32).unsqueeze(1).to(device)\n",
        "X_test_tensor = torch.tensor(X_test, dtype=torch.float32).to(device)\n",
        "y_test_tensor = torch.tensor(y_test, dtype=torch.float32).unsqueeze(1).to(device)"
      ],
      "metadata": {
        "id": "EMPCAhUjB4tJ",
        "colab": {
          "base_uri": "https://localhost:8080/"
        },
        "outputId": "10d6d6e6-5a90-4dcc-f64f-95b4cae33fc2"
      },
      "execution_count": 76,
      "outputs": [
        {
          "output_type": "stream",
          "name": "stdout",
          "text": [
            "7.5910370853482805\n",
            "(709903, 30) (709903,)\n",
            "(177476, 30) (177476,)\n"
          ]
        }
      ]
    },
    {
      "cell_type": "code",
      "source": [
        "# Train, predict, and accuracy functions\n",
        "def train_model(model): # ok\n",
        "    model.train()\n",
        "    for epoch in range(model.epochs):\n",
        "        model.optimizer.zero_grad()\n",
        "        outputs = model(model.X_train_tensor)\n",
        "        loss = model.criterion(outputs, model.y_train_tensor)\n",
        "        loss.backward()\n",
        "        model.optimizer.step()\n",
        "        if epoch % 10 == 0:\n",
        "            print(f'Epoch {epoch}, Loss: {loss.item()}')\n",
        "\n",
        "\n",
        "def predict_model(model, X_tensor):\n",
        "    model.eval()\n",
        "    with torch.no_grad():\n",
        "        outputs = model(X_tensor).squeeze()\n",
        "        return (outputs > 0.5).float()\n",
        "\n",
        "def calculate_accuracy(model, X_tensor, y_tensor):\n",
        "    X_tensor = X_tensor.to(next(model.parameters()).device)\n",
        "    y_tensor = y_tensor.to(next(model.parameters()).device)\n",
        "    predictions = predict_model(model, X_tensor)\n",
        "\n",
        "    # Ensure predictions and labels are the same shape\n",
        "    predictions = predictions.squeeze()\n",
        "    y_tensor = y_tensor.squeeze()\n",
        "\n",
        "    correct = (predictions == y_tensor).sum().item()\n",
        "    accuracy = correct / y_tensor.size(0)\n",
        "    return accuracy"
      ],
      "metadata": {
        "id": "5UL36a0-Tq97"
      },
      "execution_count": 30,
      "outputs": []
    },
    {
      "cell_type": "code",
      "source": [
        "# Train ANN\n",
        "# MLP model\n",
        "class ANN(nn.Module):\n",
        "    def __init__(self, X_train_tensor, y_train_tensor, lr=0.001):\n",
        "        super(ANN, self).__init__()\n",
        "        self.input_dim = X_train_tensor.shape[1]\n",
        "        self.net = nn.Sequential(\n",
        "            nn.Linear(self.input_dim, 128),\n",
        "            nn.BatchNorm1d(128),\n",
        "            nn.LeakyReLU(0.2),\n",
        "            nn.Dropout(0.3),\n",
        "            nn.Linear(128, 64),\n",
        "            nn.BatchNorm1d(64),\n",
        "            nn.LeakyReLU(0.1),\n",
        "            nn.Dropout(0.3),\n",
        "            nn.Linear(64, 32),\n",
        "            nn.BatchNorm1d(32),\n",
        "            nn.LeakyReLU(0.03),\n",
        "            nn.Dropout(0.3),\n",
        "            nn.Linear(32, 1),\n",
        "            nn.Sigmoid()\n",
        "        )\n",
        "        self.criterion = nn.BCELoss()\n",
        "        self.optimizer = optim.Adam(self.parameters(), lr=lr)\n",
        "        self.epochs = 100\n",
        "        self.y_train_tensor = y_train_tensor\n",
        "        self.X_train_tensor = X_train_tensor\n",
        "\n",
        "    def forward(self, x):\n",
        "        return self.net(x)\n",
        "ann_model = ANN(X_train_tensor, y_train_tensor).to(device)\n",
        "train_model(ann_model)\n",
        "ann_predictions = predict_model(ann_model, X_train_tensor).cpu().numpy()\n",
        "print('ANN train:', calculate_accuracy(ann_model, ann_model.X_train_tensor, ann_model.y_train_tensor))\n",
        "print('ANN test:', calculate_accuracy(ann_model, X_test_tensor, y_test_tensor))"
      ],
      "metadata": {
        "collapsed": true,
        "colab": {
          "base_uri": "https://localhost:8080/"
        },
        "id": "sblUgiO6S2PU",
        "outputId": "4bb33180-b789-48d1-ad20-8c9963f18961"
      },
      "execution_count": 31,
      "outputs": [
        {
          "output_type": "stream",
          "name": "stdout",
          "text": [
            "Epoch 0, Loss: 0.6712297797203064\n",
            "Epoch 10, Loss: 0.567823052406311\n",
            "Epoch 20, Loss: 0.5015900135040283\n",
            "Epoch 30, Loss: 0.4576817750930786\n",
            "Epoch 40, Loss: 0.4214310646057129\n",
            "Epoch 50, Loss: 0.38850027322769165\n",
            "Epoch 60, Loss: 0.35972169041633606\n",
            "Epoch 70, Loss: 0.33442872762680054\n",
            "Epoch 80, Loss: 0.3118170201778412\n",
            "Epoch 90, Loss: 0.29266512393951416\n",
            "ANN: 0.9464997330621225\n"
          ]
        }
      ]
    },
    {
      "cell_type": "code",
      "source": [
        "print(ann_predictions)\n",
        "print(type(ann_predictions))\n",
        "print(np.unique(ann_predictions))"
      ],
      "metadata": {
        "colab": {
          "base_uri": "https://localhost:8080/"
        },
        "id": "uF7ablcRf21U",
        "outputId": "dcf62119-6a34-4072-9fa6-4740a13b4a59"
      },
      "execution_count": 42,
      "outputs": [
        {
          "output_type": "stream",
          "name": "stdout",
          "text": [
            "[0. 0. 0. ... 0. 0. 0.]\n",
            "<class 'numpy.ndarray'>\n",
            "[0. 1.]\n"
          ]
        }
      ]
    },
    {
      "cell_type": "code",
      "source": [
        "# Logistic Regression as a neural network\n",
        "class LogisticRegressionModel(nn.Module):\n",
        "    def __init__(self, X_train_tensor, y_train_tensor, lr=0.01):\n",
        "        super(LogisticRegressionModel, self).__init__()\n",
        "        self.input_dim = X_train_tensor.shape[1]\n",
        "        self.net = nn.Sequential(\n",
        "            nn.Linear(self.input_dim, 1),\n",
        "            nn.Sigmoid()\n",
        "        )\n",
        "        self.criterion = nn.BCELoss()\n",
        "        self.optimizer = optim.Adam(self.parameters(), lr=lr)\n",
        "        self.epochs = 700\n",
        "        self.y_train_tensor = y_train_tensor\n",
        "        self.X_train_tensor = X_train_tensor\n",
        "\n",
        "    def forward(self, x):\n",
        "        return self.net(x)\n",
        "log_reg = LogisticRegressionModel(X_train_tensor, y_train_tensor).to(device)\n",
        "train_model(log_reg)\n",
        "log_reg_predictions = predict_model(log_reg, X_train_tensor).cpu().numpy()\n",
        "print('Logistic Regression train:', calculate_accuracy(log_reg, log_reg.X_train_tensor, log_reg.y_train_tensor))\n",
        "print('Logistic Regression test:', calculate_accuracy(log_reg, X_test_tensor, y_test_tensor))"
      ],
      "metadata": {
        "collapsed": true,
        "colab": {
          "base_uri": "https://localhost:8080/"
        },
        "id": "ZuSNLiKoWoyE",
        "outputId": "b00f3ad5-c5d9-4d7b-f600-e82167b910fb"
      },
      "execution_count": 77,
      "outputs": [
        {
          "output_type": "stream",
          "name": "stdout",
          "text": [
            "Epoch 0, Loss: 0.6930169463157654\n",
            "Epoch 10, Loss: 0.5847083926200867\n",
            "Epoch 20, Loss: 0.5268315672874451\n",
            "Epoch 30, Loss: 0.490772545337677\n",
            "Epoch 40, Loss: 0.4561319351196289\n",
            "Epoch 50, Loss: 0.4263942539691925\n",
            "Epoch 60, Loss: 0.4009254574775696\n",
            "Epoch 70, Loss: 0.37893223762512207\n",
            "Epoch 80, Loss: 0.3597172498703003\n",
            "Epoch 90, Loss: 0.342867910861969\n",
            "Epoch 100, Loss: 0.3280279040336609\n",
            "Epoch 110, Loss: 0.3149062991142273\n",
            "Epoch 120, Loss: 0.3032650649547577\n",
            "Epoch 130, Loss: 0.2929040491580963\n",
            "Epoch 140, Loss: 0.28365564346313477\n",
            "Epoch 150, Loss: 0.27537810802459717\n",
            "Epoch 160, Loss: 0.2679508328437805\n",
            "Epoch 170, Loss: 0.26127129793167114\n",
            "Epoch 180, Loss: 0.25525131821632385\n",
            "Epoch 190, Loss: 0.2498154640197754\n",
            "Epoch 200, Loss: 0.24489754438400269\n",
            "Epoch 210, Loss: 0.2404409945011139\n",
            "Epoch 220, Loss: 0.23639599978923798\n",
            "Epoch 230, Loss: 0.23271894454956055\n",
            "Epoch 240, Loss: 0.22937129437923431\n",
            "Epoch 250, Loss: 0.22632013261318207\n",
            "Epoch 260, Loss: 0.22353503108024597\n",
            "Epoch 270, Loss: 0.22099004685878754\n",
            "Epoch 280, Loss: 0.21866156160831451\n",
            "Epoch 290, Loss: 0.21652868390083313\n",
            "Epoch 300, Loss: 0.21457308530807495\n",
            "Epoch 310, Loss: 0.2127780318260193\n",
            "Epoch 320, Loss: 0.2111286073923111\n",
            "Epoch 330, Loss: 0.2096116989850998\n",
            "Epoch 340, Loss: 0.20821528136730194\n",
            "Epoch 350, Loss: 0.2069285809993744\n",
            "Epoch 360, Loss: 0.20574186742305756\n",
            "Epoch 370, Loss: 0.2046465128660202\n",
            "Epoch 380, Loss: 0.20363456010818481\n",
            "Epoch 390, Loss: 0.20269890129566193\n",
            "Epoch 400, Loss: 0.2018330693244934\n",
            "Epoch 410, Loss: 0.20103129744529724\n",
            "Epoch 420, Loss: 0.20028819143772125\n",
            "Epoch 430, Loss: 0.19959896802902222\n",
            "Epoch 440, Loss: 0.19895920157432556\n",
            "Epoch 450, Loss: 0.1983649581670761\n",
            "Epoch 460, Loss: 0.19781257212162018\n",
            "Epoch 470, Loss: 0.19729869067668915\n",
            "Epoch 480, Loss: 0.19682030379772186\n",
            "Epoch 490, Loss: 0.19637471437454224\n",
            "Epoch 500, Loss: 0.19595927000045776\n",
            "Epoch 510, Loss: 0.19557170569896698\n",
            "Epoch 520, Loss: 0.19520992040634155\n",
            "Epoch 530, Loss: 0.1948719322681427\n",
            "Epoch 540, Loss: 0.19455593824386597\n",
            "Epoch 550, Loss: 0.19426031410694122\n",
            "Epoch 560, Loss: 0.1939835250377655\n",
            "Epoch 570, Loss: 0.19372421503067017\n",
            "Epoch 580, Loss: 0.19348107278347015\n",
            "Epoch 590, Loss: 0.19281992316246033\n",
            "Epoch 600, Loss: 0.19259142875671387\n",
            "Epoch 610, Loss: 0.19238482415676117\n",
            "Epoch 620, Loss: 0.19219397008419037\n",
            "Epoch 630, Loss: 0.19201554358005524\n",
            "Epoch 640, Loss: 0.19184790551662445\n",
            "Epoch 650, Loss: 0.1916901022195816\n",
            "Epoch 660, Loss: 0.19154132902622223\n",
            "Epoch 670, Loss: 0.1914009004831314\n",
            "Epoch 680, Loss: 0.19126828014850616\n",
            "Epoch 690, Loss: 0.19114284217357635\n",
            "Logistic Regression train: 0.9466631356678307\n",
            "Logistic Regression test: 0.9459757939101625\n"
          ]
        }
      ]
    },
    {
      "cell_type": "code",
      "source": [
        "print(log_reg_predictions)\n",
        "print(type(log_reg_predictions))\n",
        "print(np.unique(log_reg_predictions))"
      ],
      "metadata": {
        "colab": {
          "base_uri": "https://localhost:8080/"
        },
        "id": "neJjumU4fzt0",
        "outputId": "d48c875c-76e5-4cc0-ad6c-a52621dc72c9"
      },
      "execution_count": 78,
      "outputs": [
        {
          "output_type": "stream",
          "name": "stdout",
          "text": [
            "[0. 0. 0. ... 0. 0. 0.]\n",
            "<class 'numpy.ndarray'>\n",
            "[0. 1.]\n"
          ]
        }
      ]
    },
    {
      "cell_type": "code",
      "source": [
        "class SVMClassifier():\n",
        "    def __init__(self, X_train, y_train):\n",
        "        self.pipeline = Pipeline([\n",
        "            ('scaler', StandardScaler()),\n",
        "            ('svc', SVC())\n",
        "        ])\n",
        "\n",
        "        self.param_grid = {\n",
        "            'svc__C': [0.1],\n",
        "            'svc__kernel': ['linear'],\n",
        "            'svc__gamma': ['scale']\n",
        "        }\n",
        "        self.X_train = X_train\n",
        "        self.y_train = y_train\n",
        "        self.grid_search = None\n",
        "\n",
        "    def fit(self, cv=2):\n",
        "        self.grid_search = GridSearchCV(self.pipeline, self.param_grid, cv=cv, verbose=3, n_jobs=-1)\n",
        "        self.grid_search.fit(self.X_train, self.y_train)\n",
        "        print(\"Best Parameters:\", self.grid_search.best_params_)\n",
        "\n",
        "    def predict(self, X_test):\n",
        "        return self.grid_search.best_estimator_.predict(X_test)\n",
        "\n",
        "    def calculate_accuracy(self, X, y):\n",
        "        predictions = self.predict(X)\n",
        "        accuracy = accuracy_score(y, predictions)\n",
        "        return accuracy\n",
        "\n",
        "SVM_model = SVMClassifier(train_x, train_y)\n",
        "SVM_model.fit()\n",
        "SVM_predictions = SVM_model.predict(SVM_model.X_train, SVM_model.y_train)\n",
        "print('SVM: ', SVM_model.calculate_accuracy(SVM_model.X_train, SVM_model.y_train))"
      ],
      "metadata": {
        "colab": {
          "base_uri": "https://localhost:8080/"
        },
        "id": "I9OsH9fzeJ9X",
        "outputId": "afef7613-3538-48ef-afc5-64373a52bb43"
      },
      "execution_count": null,
      "outputs": [
        {
          "output_type": "stream",
          "name": "stdout",
          "text": [
            "Fitting 2 folds for each of 1 candidates, totalling 2 fits\n"
          ]
        }
      ]
    },
    {
      "cell_type": "code",
      "source": [
        "print(SVM_predictions)\n",
        "print(type(SVM_predictions))\n",
        "print(np.unique(SVM_predictions))"
      ],
      "metadata": {
        "id": "hsl0u3Jthbqq"
      },
      "execution_count": null,
      "outputs": []
    },
    {
      "cell_type": "code",
      "source": [
        "class NaiveBayesClassifier():\n",
        "    def __init__(self, X_train, y_train):\n",
        "        self.pipeline = Pipeline([\n",
        "            ('scaler', StandardScaler()),  # Optional for Naive Bayes\n",
        "            ('nb', GaussianNB())\n",
        "        ])\n",
        "        self.X_train = X_train\n",
        "        self.y_train = y_train\n",
        "        self.model = None\n",
        "\n",
        "    def fit(self):\n",
        "        self.model = self.pipeline.fit(self.X_train, self.y_train)\n",
        "\n",
        "    def predict(self, X_test):\n",
        "        return self.model.predict(X_test)\n",
        "\n",
        "    def calculate_accuracy(self, X, y):\n",
        "        predictions = self.predict(X)\n",
        "        accuracy = accuracy_score(y, predictions)\n",
        "        return accuracy\n",
        "NB_model = NaiveBayesClassifier(X_train, y_train)\n",
        "NB_model.fit()\n",
        "accuracy = NB_model.calculate_accuracy(NB_model.X_train, NB_model.y_train)\n",
        "print('Naive Bayes Accuracy:', accuracy)"
      ],
      "metadata": {
        "id": "NadN225Ro4F2"
      },
      "execution_count": null,
      "outputs": []
    },
    {
      "cell_type": "code",
      "source": [
        "# Predict with PyTorch models and move predictions to CPU\n",
        "svm_predictions = predict_model(svm_model, X_train_tensor).cpu().numpy()\n",
        "nb_predictions = nb_model.predict(nb_model.X_train_tensor)"
      ],
      "metadata": {
        "id": "7xY6uPCbr9ru"
      },
      "execution_count": null,
      "outputs": []
    },
    {
      "cell_type": "code",
      "source": [
        "# Model Accuracy:"
      ],
      "metadata": {
        "id": "o0DtUP13pGQm"
      },
      "execution_count": null,
      "outputs": []
    },
    {
      "cell_type": "code",
      "source": [
        "# Collect predictions for stacking\n",
        "predictions = {\n",
        "    \"log_reg\": log_reg_predictions,\n",
        "    \"ANN\": ann_predictions,\n",
        "    'svm':svm_predictions,\n",
        "    'nb':nb_predictions,\n",
        "}"
      ],
      "metadata": {
        "id": "ypQUg_R6samW"
      },
      "execution_count": null,
      "outputs": []
    },
    {
      "cell_type": "code",
      "source": [
        "print('Log_reg:', calculate_accuracy(log_reg_model, log_reg_model.X_train_tensor, log_reg_model.y_train_tensor))"
      ],
      "metadata": {
        "id": "8Qi2SnaBr13j",
        "outputId": "0ad8efc2-dfdc-4a68-a7c7-d9dae7c66df2",
        "colab": {
          "base_uri": "https://localhost:8080/"
        }
      },
      "execution_count": null,
      "outputs": [
        {
          "output_type": "stream",
          "name": "stdout",
          "text": [
            "Log_reg: 0.594665750109522\n"
          ]
        }
      ]
    },
    {
      "cell_type": "code",
      "source": [
        "print('SVM:', calculate_accuracy(svm_model, svm_model.X_train_tensor, svm_model.y_train_tensor))"
      ],
      "metadata": {
        "id": "tRA5tKbwtH1c",
        "outputId": "cd224aa2-6c9c-40a8-f5fd-1ec1ba4b6f81",
        "colab": {
          "base_uri": "https://localhost:8080/"
        }
      },
      "execution_count": null,
      "outputs": [
        {
          "output_type": "stream",
          "name": "stdout",
          "text": [
            "SVM: 0.043458049902592326\n"
          ]
        }
      ]
    },
    {
      "cell_type": "code",
      "source": [
        "print('NB:', calculate_accuracy(nb_model, nb_model.X_train_tensor, nb_model.y_train_tensor))"
      ],
      "metadata": {
        "id": "WVVJvrBWtONM",
        "outputId": "bebbe99b-4b93-434d-f5f8-c1bd487702f1",
        "colab": {
          "base_uri": "https://localhost:8080/",
          "height": 298
        }
      },
      "execution_count": null,
      "outputs": [
        {
          "output_type": "error",
          "ename": "TypeError",
          "evalue": "'NoneType' object is not iterable",
          "traceback": [
            "\u001b[0;31m---------------------------------------------------------------------------\u001b[0m",
            "\u001b[0;31mTypeError\u001b[0m                                 Traceback (most recent call last)",
            "\u001b[0;32m<ipython-input-37-95500323c67e>\u001b[0m in \u001b[0;36m<cell line: 1>\u001b[0;34m()\u001b[0m\n\u001b[0;32m----> 1\u001b[0;31m \u001b[0mprint\u001b[0m\u001b[0;34m(\u001b[0m\u001b[0;34m'NB:'\u001b[0m\u001b[0;34m,\u001b[0m \u001b[0mcalculate_accuracy\u001b[0m\u001b[0;34m(\u001b[0m\u001b[0mnb_model\u001b[0m\u001b[0;34m,\u001b[0m \u001b[0mnb_model\u001b[0m\u001b[0;34m.\u001b[0m\u001b[0mX_train_tensor\u001b[0m\u001b[0;34m,\u001b[0m \u001b[0mnb_model\u001b[0m\u001b[0;34m.\u001b[0m\u001b[0my_train_tensor\u001b[0m\u001b[0;34m)\u001b[0m\u001b[0;34m)\u001b[0m\u001b[0;34m\u001b[0m\u001b[0;34m\u001b[0m\u001b[0m\n\u001b[0m",
            "\u001b[0;32m<ipython-input-36-a943f26dbe9e>\u001b[0m in \u001b[0;36mcalculate_accuracy\u001b[0;34m(model, X_tensor, y_tensor)\u001b[0m\n\u001b[1;32m    114\u001b[0m         \u001b[0mX_tensor\u001b[0m \u001b[0;34m=\u001b[0m \u001b[0mX_tensor\u001b[0m\u001b[0;34m.\u001b[0m\u001b[0mto\u001b[0m\u001b[0;34m(\u001b[0m\u001b[0mmodel\u001b[0m\u001b[0;34m.\u001b[0m\u001b[0mdevice\u001b[0m\u001b[0;34m)\u001b[0m\u001b[0;34m\u001b[0m\u001b[0;34m\u001b[0m\u001b[0m\n\u001b[1;32m    115\u001b[0m         \u001b[0my_tensor\u001b[0m \u001b[0;34m=\u001b[0m \u001b[0my_tensor\u001b[0m\u001b[0;34m.\u001b[0m\u001b[0mto\u001b[0m\u001b[0;34m(\u001b[0m\u001b[0mmodel\u001b[0m\u001b[0;34m.\u001b[0m\u001b[0mdevice\u001b[0m\u001b[0;34m)\u001b[0m\u001b[0;34m.\u001b[0m\u001b[0msqueeze\u001b[0m\u001b[0;34m(\u001b[0m\u001b[0;34m)\u001b[0m\u001b[0;34m\u001b[0m\u001b[0;34m\u001b[0m\u001b[0m\n\u001b[0;32m--> 116\u001b[0;31m         \u001b[0mpredictions\u001b[0m \u001b[0;34m=\u001b[0m \u001b[0mmodel\u001b[0m\u001b[0;34m.\u001b[0m\u001b[0mpredict\u001b[0m\u001b[0;34m(\u001b[0m\u001b[0mX_tensor\u001b[0m\u001b[0;34m)\u001b[0m\u001b[0;34m\u001b[0m\u001b[0;34m\u001b[0m\u001b[0m\n\u001b[0m\u001b[1;32m    117\u001b[0m     \u001b[0;32melse\u001b[0m\u001b[0;34m:\u001b[0m\u001b[0;34m\u001b[0m\u001b[0;34m\u001b[0m\u001b[0m\n\u001b[1;32m    118\u001b[0m         \u001b[0mX_tensor\u001b[0m \u001b[0;34m=\u001b[0m \u001b[0mX_tensor\u001b[0m\u001b[0;34m.\u001b[0m\u001b[0mto\u001b[0m\u001b[0;34m(\u001b[0m\u001b[0mnext\u001b[0m\u001b[0;34m(\u001b[0m\u001b[0mmodel\u001b[0m\u001b[0;34m.\u001b[0m\u001b[0mparameters\u001b[0m\u001b[0;34m(\u001b[0m\u001b[0;34m)\u001b[0m\u001b[0;34m)\u001b[0m\u001b[0;34m.\u001b[0m\u001b[0mdevice\u001b[0m\u001b[0;34m)\u001b[0m\u001b[0;34m\u001b[0m\u001b[0;34m\u001b[0m\u001b[0m\n",
            "\u001b[0;32m<ipython-input-36-a943f26dbe9e>\u001b[0m in \u001b[0;36mpredict\u001b[0;34m(self, X_tensor)\u001b[0m\n\u001b[1;32m     82\u001b[0m     \u001b[0;32mdef\u001b[0m \u001b[0mpredict\u001b[0m\u001b[0;34m(\u001b[0m\u001b[0mself\u001b[0m\u001b[0;34m,\u001b[0m \u001b[0mX_tensor\u001b[0m\u001b[0;34m)\u001b[0m\u001b[0;34m:\u001b[0m\u001b[0;34m\u001b[0m\u001b[0;34m\u001b[0m\u001b[0m\n\u001b[1;32m     83\u001b[0m         \u001b[0mlog_probs\u001b[0m \u001b[0;34m=\u001b[0m \u001b[0;34m[\u001b[0m\u001b[0;34m]\u001b[0m\u001b[0;34m\u001b[0m\u001b[0;34m\u001b[0m\u001b[0m\n\u001b[0;32m---> 84\u001b[0;31m         \u001b[0;32mfor\u001b[0m \u001b[0mi\u001b[0m\u001b[0;34m,\u001b[0m \u001b[0mc\u001b[0m \u001b[0;32min\u001b[0m \u001b[0menumerate\u001b[0m\u001b[0;34m(\u001b[0m\u001b[0mself\u001b[0m\u001b[0;34m.\u001b[0m\u001b[0mclasses\u001b[0m\u001b[0;34m)\u001b[0m\u001b[0;34m:\u001b[0m\u001b[0;34m\u001b[0m\u001b[0;34m\u001b[0m\u001b[0m\n\u001b[0m\u001b[1;32m     85\u001b[0m             \u001b[0mlog_prior\u001b[0m \u001b[0;34m=\u001b[0m \u001b[0mtorch\u001b[0m\u001b[0;34m.\u001b[0m\u001b[0mlog\u001b[0m\u001b[0;34m(\u001b[0m\u001b[0mself\u001b[0m\u001b[0;34m.\u001b[0m\u001b[0mclass_priors\u001b[0m\u001b[0;34m[\u001b[0m\u001b[0mi\u001b[0m\u001b[0;34m]\u001b[0m\u001b[0;34m)\u001b[0m\u001b[0;34m\u001b[0m\u001b[0;34m\u001b[0m\u001b[0m\n\u001b[1;32m     86\u001b[0m             log_likelihood = (\n",
            "\u001b[0;31mTypeError\u001b[0m: 'NoneType' object is not iterable"
          ]
        }
      ]
    },
    {
      "cell_type": "code",
      "source": [
        "# Stack predictions as features for AdaBoost\n",
        "stacked_features = np.column_stack(list(predictions.values()))\n",
        "\n",
        "# Initialize and train AdaBoost\n",
        "ada_boost = AdaBoostClassifier(n_estimators=30, random_state=29)\n",
        "ada_boost.fit(stacked_features, y_train)\n",
        "\n",
        "# Evaluate train\n",
        "stacked_accuracy = ada_boost.score(stacked_features, y_train)\n",
        "print(\"Stacked model accuracy:\", stacked_accuracy)"
      ],
      "metadata": {
        "id": "9YtaBSy9ZyUO"
      },
      "execution_count": null,
      "outputs": []
    },
    {
      "cell_type": "code",
      "source": [],
      "metadata": {
        "id": "fkw5jbXSIpfK"
      },
      "execution_count": null,
      "outputs": []
    },
    {
      "cell_type": "code",
      "source": [],
      "metadata": {
        "id": "PK_0JVF6IZu-"
      },
      "execution_count": null,
      "outputs": []
    }
  ]
}